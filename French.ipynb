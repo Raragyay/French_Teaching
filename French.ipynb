{
 "cells": [
  {
   "cell_type": "code",
   "execution_count": 1,
   "metadata": {},
   "outputs": [],
   "source": [
    "from typing import List, Tuple\n",
    "import pandas as pd\n",
    "import numpy as np\n",
    "import random\n",
    "import os"
   ]
  },
  {
   "cell_type": "code",
   "execution_count": 2,
   "metadata": {
    "pycharm": {
     "name": "#%%\n"
    }
   },
   "outputs": [
    {
     "name": "stdout",
     "output_type": "stream",
     "text": [
      "New.csv\n",
      "body.csv\n",
      "careers.csv\n",
      "chores.csv\n",
      "directions.csv\n",
      "dishes_and_silverware.csv\n",
      "drinks.csv\n",
      "feelings.csv\n",
      "food.csv\n",
      "house.csv\n",
      "military.csv\n",
      "nature.csv\n",
      "personalities.csv\n",
      "phys_description.csv\n",
      "prepositions.csv\n",
      "relatives.csv\n",
      "school.csv\n",
      "verbs.csv\n",
      "weather.csv\n"
     ]
    },
    {
     "data": {
      "text/plain": "                  English                    French Antonym Category\n0    non-alcoholic drinks  boissons non alcoolisées              New\n1                  coffee                      café              New\n2                espresso              express;café              New\n3           hot chocolate         chocolat (chaud)               New\n4                   juice                       jus              New\n..                    ...                       ...     ...      ...\n741                 foggy             du brouillard          weather\n742               raining                     pleut          weather\n743               pouring             pleut à verse          weather\n744               snowing                     neige          weather\n745              freezing                      gèle          weather\n\n[746 rows x 4 columns]",
      "text/html": "<div>\n<style scoped>\n    .dataframe tbody tr th:only-of-type {\n        vertical-align: middle;\n    }\n\n    .dataframe tbody tr th {\n        vertical-align: top;\n    }\n\n    .dataframe thead th {\n        text-align: right;\n    }\n</style>\n<table border=\"1\" class=\"dataframe\">\n  <thead>\n    <tr style=\"text-align: right;\">\n      <th></th>\n      <th>English</th>\n      <th>French</th>\n      <th>Antonym</th>\n      <th>Category</th>\n    </tr>\n  </thead>\n  <tbody>\n    <tr>\n      <th>0</th>\n      <td>non-alcoholic drinks</td>\n      <td>boissons non alcoolisées</td>\n      <td></td>\n      <td>New</td>\n    </tr>\n    <tr>\n      <th>1</th>\n      <td>coffee</td>\n      <td>café</td>\n      <td></td>\n      <td>New</td>\n    </tr>\n    <tr>\n      <th>2</th>\n      <td>espresso</td>\n      <td>express;café</td>\n      <td></td>\n      <td>New</td>\n    </tr>\n    <tr>\n      <th>3</th>\n      <td>hot chocolate</td>\n      <td>chocolat (chaud)</td>\n      <td></td>\n      <td>New</td>\n    </tr>\n    <tr>\n      <th>4</th>\n      <td>juice</td>\n      <td>jus</td>\n      <td></td>\n      <td>New</td>\n    </tr>\n    <tr>\n      <th>...</th>\n      <td>...</td>\n      <td>...</td>\n      <td>...</td>\n      <td>...</td>\n    </tr>\n    <tr>\n      <th>741</th>\n      <td>foggy</td>\n      <td>du brouillard</td>\n      <td></td>\n      <td>weather</td>\n    </tr>\n    <tr>\n      <th>742</th>\n      <td>raining</td>\n      <td>pleut</td>\n      <td></td>\n      <td>weather</td>\n    </tr>\n    <tr>\n      <th>743</th>\n      <td>pouring</td>\n      <td>pleut à verse</td>\n      <td></td>\n      <td>weather</td>\n    </tr>\n    <tr>\n      <th>744</th>\n      <td>snowing</td>\n      <td>neige</td>\n      <td></td>\n      <td>weather</td>\n    </tr>\n    <tr>\n      <th>745</th>\n      <td>freezing</td>\n      <td>gèle</td>\n      <td></td>\n      <td>weather</td>\n    </tr>\n  </tbody>\n</table>\n<p>746 rows × 4 columns</p>\n</div>"
     },
     "execution_count": 2,
     "metadata": {},
     "output_type": "execute_result"
    }
   ],
   "source": [
    "df = pd.DataFrame()\n",
    "for file in sorted(os.listdir()):\n",
    "    if file.endswith('.csv') and not file.startswith('Kahoot') and not file.startswith('Master') and not file.startswith('VERB'):\n",
    "        print(file)\n",
    "        temp_df = pd.read_csv(file, names = ['English', 'French', 'Antonym'], dtype = str)\n",
    "        temp_df['Category'] = file.replace('.csv', '')\n",
    "        df = df.append(temp_df, ignore_index = True)\n",
    "df['Antonym'] = df['Antonym'].replace(np.nan, \"\")\n",
    "df"
   ]
  },
  {
   "cell_type": "code",
   "execution_count": 3,
   "metadata": {},
   "outputs": [
    {
     "data": {
      "text/plain": "                  English                      French Antonym Category\n0    non-alcoholic drinks  {boissons non alcoolisées}      {}      New\n1                  coffee                      {café}      {}      New\n2                espresso              {express;café}      {}      New\n3           hot chocolate         {chocolat (chaud) }      {}      New\n4                   juice                       {jus}      {}      New\n..                    ...                         ...     ...      ...\n741                 foggy             {du brouillard}      {}  weather\n742               raining                     {pleut}      {}  weather\n743               pouring             {pleut à verse}      {}  weather\n744               snowing                     {neige}      {}  weather\n745              freezing                      {gèle}      {}  weather\n\n[746 rows x 4 columns]",
      "text/html": "<div>\n<style scoped>\n    .dataframe tbody tr th:only-of-type {\n        vertical-align: middle;\n    }\n\n    .dataframe tbody tr th {\n        vertical-align: top;\n    }\n\n    .dataframe thead th {\n        text-align: right;\n    }\n</style>\n<table border=\"1\" class=\"dataframe\">\n  <thead>\n    <tr style=\"text-align: right;\">\n      <th></th>\n      <th>English</th>\n      <th>French</th>\n      <th>Antonym</th>\n      <th>Category</th>\n    </tr>\n  </thead>\n  <tbody>\n    <tr>\n      <th>0</th>\n      <td>non-alcoholic drinks</td>\n      <td>{boissons non alcoolisées}</td>\n      <td>{}</td>\n      <td>New</td>\n    </tr>\n    <tr>\n      <th>1</th>\n      <td>coffee</td>\n      <td>{café}</td>\n      <td>{}</td>\n      <td>New</td>\n    </tr>\n    <tr>\n      <th>2</th>\n      <td>espresso</td>\n      <td>{express;café}</td>\n      <td>{}</td>\n      <td>New</td>\n    </tr>\n    <tr>\n      <th>3</th>\n      <td>hot chocolate</td>\n      <td>{chocolat (chaud) }</td>\n      <td>{}</td>\n      <td>New</td>\n    </tr>\n    <tr>\n      <th>4</th>\n      <td>juice</td>\n      <td>{jus}</td>\n      <td>{}</td>\n      <td>New</td>\n    </tr>\n    <tr>\n      <th>...</th>\n      <td>...</td>\n      <td>...</td>\n      <td>...</td>\n      <td>...</td>\n    </tr>\n    <tr>\n      <th>741</th>\n      <td>foggy</td>\n      <td>{du brouillard}</td>\n      <td>{}</td>\n      <td>weather</td>\n    </tr>\n    <tr>\n      <th>742</th>\n      <td>raining</td>\n      <td>{pleut}</td>\n      <td>{}</td>\n      <td>weather</td>\n    </tr>\n    <tr>\n      <th>743</th>\n      <td>pouring</td>\n      <td>{pleut à verse}</td>\n      <td>{}</td>\n      <td>weather</td>\n    </tr>\n    <tr>\n      <th>744</th>\n      <td>snowing</td>\n      <td>{neige}</td>\n      <td>{}</td>\n      <td>weather</td>\n    </tr>\n    <tr>\n      <th>745</th>\n      <td>freezing</td>\n      <td>{gèle}</td>\n      <td>{}</td>\n      <td>weather</td>\n    </tr>\n  </tbody>\n</table>\n<p>746 rows × 4 columns</p>\n</div>"
     },
     "execution_count": 3,
     "metadata": {},
     "output_type": "execute_result"
    }
   ],
   "source": [
    "df['French'] = df['French'].apply(lambda s:set(s.split('; '))-{''})\n",
    "df['Antonym'] = df['Antonym'].apply(lambda s:set(s.split('; '))-{''})\n",
    "df"
   ]
  },
  {
   "cell_type": "code",
   "execution_count": 4,
   "metadata": {},
   "outputs": [
    {
     "name": "stdout",
     "output_type": "stream",
     "text": [
      "Found duplicate key: to do the dishes\n",
      "Found duplicate key: non-alcoholic drinks\n",
      "Found duplicate key: coffee\n",
      "Found duplicate key: espresso\n",
      "Found duplicate key: hot chocolate\n",
      "Found duplicate key: juice\n",
      "Found duplicate key: lemonade\n",
      "Found duplicate key: milk\n",
      "Found duplicate key: pop, soda, soft drink\n",
      "Found duplicate key: citrus soda\n",
      "Found duplicate key: cola\n",
      "Found duplicate key: lemon soda (eg, 7-Up)\n",
      "Found duplicate key: tea\n",
      "Found duplicate key: iced tea\n",
      "Found duplicate key: herbal tea\n",
      "Found duplicate key: water\n",
      "Found duplicate key: still / plain water\n",
      "Found duplicate key: sparkling / mineral water\n",
      "Found duplicate key: tap water\n",
      "Found duplicate key: alcoholic drinks\n",
      "Found duplicate key: after-dinner drink\n",
      "Found duplicate key: anise-flavored apéritif\n",
      "Found duplicate key: beer\n",
      "Found duplicate key: beer on tap\n",
      "Found duplicate key: champagne\n",
      "Found duplicate key: cocktail, pre-dinner drink\n",
      "Found duplicate key: hard cider\n",
      "Found duplicate key: wine\n",
      "Found duplicate key: milk\n",
      "Found duplicate key: dessert\n",
      "Found duplicate key: cheese\n",
      "Found duplicate key: fruit\n",
      "Found duplicate key: ice cream\n",
      "Found duplicate key: floor\n",
      "Found duplicate key: dining room\n",
      "Found duplicate key: soldier\n",
      "Found duplicate key: according to\n",
      "Found duplicate key: computer\n",
      "Found duplicate key: to eat\n",
      "Found duplicate key: to reopen\n",
      "Found duplicate key: to build\n",
      "Found duplicate key: to cook\n",
      "Found duplicate key: to shine\n"
     ]
    }
   ],
   "source": [
    "# Merge duplicate keys\n",
    "\n",
    "duplicate_keys = df[df.duplicated('English')]['English']\n",
    "for i, s in duplicate_keys.iteritems():\n",
    "    print(f\"Found duplicate key: {s}\")\n",
    "    sli = df[df['English'] == s]\n",
    "    for idx, row in list(sli.tail(len(sli)-1).iterrows()):\n",
    "        sli.iloc[0]['French'] |= row['French']\n",
    "        sli.iloc[0]['Antonym'] |= row['Antonym']\n",
    "    df.drop(index = sli.tail(len(sli)-1).index, inplace = True)"
   ]
  },
  {
   "cell_type": "code",
   "execution_count": 5,
   "metadata": {},
   "outputs": [],
   "source": [
    "df = df.set_index('English')"
   ]
  },
  {
   "cell_type": "code",
   "execution_count": 6,
   "metadata": {},
   "outputs": [
    {
     "data": {
      "text/plain": "array(['New', 'body', 'careers', 'chores', 'directions',\n       'dishes_and_silverware', 'feelings', 'food', 'house', 'military',\n       'nature', 'personalities', 'phys_description', 'prepositions',\n       'relatives', 'school', 'verbs', 'weather'], dtype=object)"
     },
     "execution_count": 6,
     "metadata": {},
     "output_type": "execute_result"
    }
   ],
   "source": [
    "df['Category'].unique()"
   ]
  },
  {
   "cell_type": "code",
   "execution_count": 7,
   "metadata": {
    "pycharm": {
     "name": "#%%\n"
    }
   },
   "outputs": [
    {
     "name": "stdout",
     "output_type": "stream",
     "text": [
      "914\n",
      "867\n"
     ]
    }
   ],
   "source": [
    "all_vocab = set()\n",
    "all_french_words = set()\n",
    "for l in df['French']:\n",
    "    all_vocab |= l\n",
    "    all_french_words |= l\n",
    "for l in df['Antonym']:\n",
    "    all_vocab |= l\n",
    "print(len(all_vocab))\n",
    "print(len(all_french_words))"
   ]
  },
  {
   "cell_type": "code",
   "execution_count": 8,
   "metadata": {},
   "outputs": [],
   "source": [
    "cat_to_vocab = df.groupby('Category').apply(lambda x: set.union(*x.French, *x.Antonym))\n",
    "cat_to_french = df.groupby('Category').apply(lambda x: set.union(*x.French))\n",
    "cat_to_vocab.loc['all'] = all_vocab\n",
    "cat_to_french.loc['all'] = all_french_words"
   ]
  },
  {
   "cell_type": "code",
   "execution_count": 9,
   "metadata": {},
   "outputs": [
    {
     "data": {
      "text/plain": "English\nmouth             body\nmanager        careers\nteacher        careers\nto cook         chores\namazed        feelings\n               ...    \nhusband      relatives\nbinder          school\nto build         verbs\nto reopen        verbs\nto shine         verbs\nName: Category, Length: 99, dtype: object"
     },
     "execution_count": 9,
     "metadata": {},
     "output_type": "execute_result"
    }
   ],
   "source": [
    "cats_with_synonyms = df['Category'][df['French'].apply(lambda x: len(x)>1)] # More than 1 translation\n",
    "cats_with_synonyms"
   ]
  },
  {
   "cell_type": "code",
   "execution_count": 10,
   "metadata": {},
   "outputs": [
    {
     "data": {
      "text/plain": "English\nnorth             directions\nsouth             directions\neast              directions\nwest              directions\nleft              directions\n                    ...     \nfor             prepositions\nwithout         prepositions\naccording to    prepositions\nunder           prepositions\non              prepositions\nName: Category, Length: 108, dtype: object"
     },
     "execution_count": 10,
     "metadata": {},
     "output_type": "execute_result"
    }
   ],
   "source": [
    "cats_with_antonyms = df['Category'][df['Antonym'].apply(lambda x:len(x)>0)]\n",
    "cats_with_antonyms"
   ]
  },
  {
   "cell_type": "code",
   "execution_count": 11,
   "metadata": {
    "pycharm": {
     "name": "#%%\n"
    }
   },
   "outputs": [],
   "source": [
    "def generate_eng_to_french(category:str = None, num_of_answers = 4)->Tuple[str, List[str], str]:\n",
    "    if category is None:\n",
    "        category = random.choice(df['Category'])\n",
    "    word = random.choice(df[df['Category'] == category].index)\n",
    "    chosen_french_def = random.sample(df.loc[word]['French'], 1)[0]\n",
    "    incorrect_answers = random.sample(cat_to_vocab[df.loc[word, 'Category']]-df.loc[word, 'French'], k = num_of_answers-1)\n",
    "    return word, random.sample(incorrect_answers+[chosen_french_def], num_of_answers), chosen_french_def"
   ]
  },
  {
   "cell_type": "code",
   "execution_count": 12,
   "metadata": {
    "pycharm": {
     "name": "#%%\n"
    }
   },
   "outputs": [],
   "source": [
    "def generate_french_to_eng(category:str = None, num_of_answers = 4):\n",
    "    if category is None:\n",
    "        category = random.choice(df['Category'])\n",
    "    word = random.sample(cat_to_french[category], 1)[0]\n",
    "    possible_eng_defs = df[df.apply(lambda x: word in x['French'], axis = 1)].index\n",
    "    chosen_eng_def = random.choice(possible_eng_defs)\n",
    "    incorrect_answers = random.sample(set(df[df['Category'] == df.loc[chosen_eng_def, 'Category']].index)-set(possible_eng_defs), k = num_of_answers-1)\n",
    "    return word, random.sample(incorrect_answers+[chosen_eng_def], num_of_answers), chosen_eng_def"
   ]
  },
  {
   "cell_type": "code",
   "execution_count": 13,
   "metadata": {
    "pycharm": {
     "name": "#%%\n"
    }
   },
   "outputs": [],
   "source": [
    "def generate_synonym(category:str = None, num_of_answers = 4, answers_in_same_category = True):\n",
    "    if category is None:\n",
    "        category = random.choice(cats_with_synonyms)\n",
    "    series_with_synonyms = cats_with_synonyms[cats_with_synonyms == category].index\n",
    "    word = random.choice(series_with_synonyms)\n",
    "    french_synonym_chosen = random.sample(df.loc[word, \"French\"], 1)[0]\n",
    "    synonyms = set()\n",
    "    for poss in df[df['Category'] == category]['French']:\n",
    "        if french_synonym_chosen in poss:\n",
    "            synonyms |= poss\n",
    "    incorrect_answers = random.sample((cat_to_vocab.loc[category] if answers_in_same_category else all_vocab)-synonyms, num_of_answers-1)\n",
    "    synonyms.remove(french_synonym_chosen)\n",
    "    french_synonym_chosen_2=random.sample(synonyms, 1)[0]\n",
    "    return french_synonym_chosen, random.sample(incorrect_answers+[french_synonym_chosen_2], num_of_answers), french_synonym_chosen_2"
   ]
  },
  {
   "cell_type": "code",
   "execution_count": 14,
   "metadata": {},
   "outputs": [],
   "source": [
    "def generate_antonym(category:str = None, num_of_answers = 4):\n",
    "    if category is None:\n",
    "        category = random.choice(cats_with_antonyms)\n",
    "    chosen_english_word = random.choice(cats_with_antonyms[cats_with_antonyms == category].index)\n",
    "    chosen_french_word = random.sample(df.loc[chosen_english_word, 'French'], 1)[0]\n",
    "    chosen_antonym = random.sample(df.loc[chosen_english_word, 'Antonym'], 1)[0]\n",
    "    synonyms = set()\n",
    "    for poss in df['French']:\n",
    "        if chosen_french_word in poss:\n",
    "            synonyms |= poss\n",
    "    for poss in df['Antonym']:\n",
    "        if chosen_antonym in poss:\n",
    "            synonyms |= poss\n",
    "    incorrect_answers = random.sample(cat_to_vocab.loc[category]-synonyms, num_of_answers-1)\n",
    "    return chosen_french_word, random.sample(incorrect_answers+[chosen_antonym], num_of_answers), chosen_antonym"
   ]
  },
  {
   "cell_type": "code",
   "execution_count": 15,
   "metadata": {
    "pycharm": {
     "name": "#%%\n"
    }
   },
   "outputs": [],
   "source": [
    "def format_tuple(tup):\n",
    "    return f'{tup[0]}\\n{\"    \".join(tup[1])}'\n"
   ]
  },
  {
   "cell_type": "code",
   "execution_count": 16,
   "metadata": {
    "pycharm": {
     "name": "#%%\n"
    }
   },
   "outputs": [],
   "source": [
    "def print_tup(f, **kwargs):\n",
    "    tup = f(**kwargs)\n",
    "    print(format_tuple(tup))\n",
    "    print(tup[2])\n"
   ]
  },
  {
   "cell_type": "code",
   "execution_count": 17,
   "metadata": {
    "pycharm": {
     "name": "#%%\n"
    }
   },
   "outputs": [],
   "source": [
    "def print_eng_to_french(category = None):\n",
    "    print_tup(generate_eng_to_french, category = category)"
   ]
  },
  {
   "cell_type": "code",
   "execution_count": 18,
   "metadata": {
    "pycharm": {
     "name": "#%%\n"
    }
   },
   "outputs": [],
   "source": [
    "def print_french_to_eng(category = None):\n",
    "    print_tup(generate_french_to_eng, category = category)"
   ]
  },
  {
   "cell_type": "code",
   "execution_count": 19,
   "metadata": {
    "pycharm": {
     "name": "#%%\n"
    }
   },
   "outputs": [],
   "source": [
    "def print_different_cat_synonym():\n",
    "    print_tup(generate_synonym, answers_in_same_category = False)"
   ]
  },
  {
   "cell_type": "code",
   "execution_count": 20,
   "metadata": {},
   "outputs": [],
   "source": [
    "def print_same_cat_synonym():\n",
    "    print_tup(generate_synonym, answers_in_same_category = True)"
   ]
  },
  {
   "cell_type": "code",
   "execution_count": 21,
   "metadata": {},
   "outputs": [],
   "source": [
    "def print_antonym():\n",
    "    print_tup(generate_antonym)"
   ]
  },
  {
   "cell_type": "code",
   "execution_count": 22,
   "metadata": {
    "pycharm": {
     "name": "#%%\n"
    }
   },
   "outputs": [
    {
     "name": "stdout",
     "output_type": "stream",
     "text": [
      "cousin (m.)\n",
      "petit-fils    cousin    pépé    cousine\n",
      "cousin\n",
      "since, for\n",
      "après    jusque    vers    depuis\n",
      "depuis\n",
      "to dance\n",
      "agrandir    danser    devoir    départir\n",
      "danser\n"
     ]
    }
   ],
   "source": [
    "print_eng_to_french()\n",
    "print_eng_to_french()\n",
    "print_eng_to_french()"
   ]
  },
  {
   "cell_type": "code",
   "execution_count": 23,
   "metadata": {
    "pycharm": {
     "name": "#%%\n"
    }
   },
   "outputs": [
    {
     "name": "stdout",
     "output_type": "stream",
     "text": [
      "estomac\n",
      "mouth    stomach    wrist    eyes\n",
      "stomach\n",
      "devoir\n",
      "to finish    to have to    to happen that    to be able to\n",
      "to have to\n",
      "général\n",
      "weapons of mass destruction    airforce    explosion    general\n",
      "general\n"
     ]
    }
   ],
   "source": [
    "print_french_to_eng()\n",
    "print_french_to_eng()\n",
    "print_french_to_eng()"
   ]
  },
  {
   "cell_type": "code",
   "execution_count": 24,
   "metadata": {
    "pycharm": {
     "name": "#%%\n"
    }
   },
   "outputs": [
    {
     "name": "stdout",
     "output_type": "stream",
     "text": [
      "studieux\n",
      "désordonné    poêle (à frire)    vieillir    zélé\n",
      "zélé\n",
      "peureux\n",
      "mer    dessert    eau    apeuré\n",
      "apeuré\n",
      "amorphe\n",
      "grognon    apathique    gorge    pour\n",
      "apathique\n"
     ]
    }
   ],
   "source": [
    "print_different_cat_synonym()\n",
    "print_different_cat_synonym()\n",
    "print_different_cat_synonym()"
   ]
  },
  {
   "cell_type": "code",
   "execution_count": 25,
   "metadata": {},
   "outputs": [
    {
     "name": "stdout",
     "output_type": "stream",
     "text": [
      "ardent\n",
      "nerveux    lâche    patient    répétitive\n",
      "nerveux\n",
      "cuisiner\n",
      "faire la cuisine    tondre le gazon    faire la vaisselle    ranger\n",
      "faire la cuisine\n",
      "femme\n",
      "épouse    belle-mère    époux    ami\n",
      "épouse\n"
     ]
    }
   ],
   "source": [
    "print_same_cat_synonym()\n",
    "print_same_cat_synonym()\n",
    "print_same_cat_synonym()"
   ]
  },
  {
   "cell_type": "code",
   "execution_count": 26,
   "metadata": {},
   "outputs": [
    {
     "name": "stdout",
     "output_type": "stream",
     "text": [
      "bas\n",
      "est    haut    loin    gauche\n",
      "haut\n",
      "persévérant\n",
      "charismatique    désobéissant    nerveux    malhonnête\n",
      "nerveux\n",
      "joli\n",
      "gros    affaibli    grand    moche\n",
      "moche\n"
     ]
    }
   ],
   "source": [
    "print_antonym()\n",
    "print_antonym()\n",
    "print_antonym()"
   ]
  },
  {
   "cell_type": "code",
   "execution_count": 27,
   "metadata": {},
   "outputs": [
    {
     "data": {
      "text/plain": "True"
     },
     "execution_count": 27,
     "metadata": {},
     "output_type": "execute_result"
    }
   ],
   "source": [
    "class AnswerModifier:\n",
    "    def __init__(self, condition, action):\n",
    "        self.condition = condition\n",
    "        self.action = action\n",
    "\n",
    "def ca(c, a):\n",
    "    return AnswerModifier(c, a)\n",
    "\n",
    "def replace_some(old:str, news:list):\n",
    "    def replacer(s:str):\n",
    "        return random.choice(news).join(s.split(old, random.randint(1, s.count(old))) if random.choice([True, False]) else s.rsplit(old, random.randint(1, s.count(old))))\n",
    "    return replacer\n",
    "\n",
    "answer_modifiers = [\n",
    "    ca(lambda x:'e' in x, replace_some('e', ['é', 'è', 'ê', 'es', 'ee'])), \n",
    "    ca(lambda x:'é' in x, replace_some('é', ['e', 'è', 'ê', 'es', 'ee'])), \n",
    "    ca(lambda x:'è' in x, replace_some('è', ['é', 'e', 'ê', 'es', 'ee'])), \n",
    "    ca(lambda x:'ê' in x, replace_some('ê', ['é', 'è', 'e', 'es', 'ee'])), \n",
    "    ca(lambda x:'es' in x, replace_some('es', ['é', 'è', 'ê', 'e', 'ee'])), \n",
    "    ca(lambda x:'ee' in x, replace_some('ee', ['é', 'è', 'ê', 'es', 'e'])), \n",
    "    ca(lambda x:'a' in x, replace_some('a', ['à', 'â'])), \n",
    "    ca(lambda x:'à' in x, replace_some('à', ['a', 'â'])), \n",
    "    ca(lambda x:'â' in x, replace_some('â', ['à', 'a'])), \n",
    "    ca(lambda x:'c' in x, replace_some('c', ['ç'])), \n",
    "    ca(lambda x:'ç' in x, replace_some('ç', ['c'])), \n",
    "    ca(lambda x:'s' in x, replace_some('s', ['ss', 'se'])), \n",
    "    ca(lambda x:'ss' in x, replace_some('ss', ['s', 'se'])), \n",
    "    ca(lambda x:'se' in x, replace_some('se', ['ss', 's'])), \n",
    "    ca(lambda x:'i' in x, replace_some('i', ['is', 'iss'])), \n",
    "    ca(lambda x:'is' in x, replace_some('is', ['i', 'iss'])), \n",
    "    ca(lambda x:'iss' in x, replace_some('iss', ['is', 'i'])), \n",
    "    ca(lambda x:'n' in x, replace_some('n', ['gn'])), \n",
    "    ca(lambda x:'gn' in x, replace_some('gn', ['n'])), \n",
    "    \n",
    "]\n",
    "#todo cartesian matrix stuff\n",
    "answer_modifiers[0].condition('pendant')"
   ]
  },
  {
   "cell_type": "code",
   "execution_count": 28,
   "metadata": {},
   "outputs": [
    {
     "data": {
      "text/plain": "                        Meaning\nVerb                           \npartir                 to leave\nconsentir            to consent\ndépartir              to accord\ndormir                 to sleep\nendormir   to put/send to sleep",
      "text/html": "<div>\n<style scoped>\n    .dataframe tbody tr th:only-of-type {\n        vertical-align: middle;\n    }\n\n    .dataframe tbody tr th {\n        vertical-align: top;\n    }\n\n    .dataframe thead th {\n        text-align: right;\n    }\n</style>\n<table border=\"1\" class=\"dataframe\">\n  <thead>\n    <tr style=\"text-align: right;\">\n      <th></th>\n      <th>Meaning</th>\n    </tr>\n    <tr>\n      <th>Verb</th>\n      <th></th>\n    </tr>\n  </thead>\n  <tbody>\n    <tr>\n      <th>partir</th>\n      <td>to leave</td>\n    </tr>\n    <tr>\n      <th>consentir</th>\n      <td>to consent</td>\n    </tr>\n    <tr>\n      <th>départir</th>\n      <td>to accord</td>\n    </tr>\n    <tr>\n      <th>dormir</th>\n      <td>to sleep</td>\n    </tr>\n    <tr>\n      <th>endormir</th>\n      <td>to put/send to sleep</td>\n    </tr>\n  </tbody>\n</table>\n</div>"
     },
     "execution_count": 28,
     "metadata": {},
     "output_type": "execute_result"
    }
   ],
   "source": [
    "irregular_verb_df = pd.read_csv('VERB - irregular.csv', names = ['Verb', 'Meaning', 'je', 'tu', 'il', 'nous', 'vous', 'ils'], dtype = str)\n",
    "irregular_verb_df.set_index('Verb', inplace = True)\n",
    "irregular_verb_df.head()\n",
    "short_ir_verb_series = pd.read_csv('VERB - short ir verbs.csv', names = ['Verb', 'Meaning'], dtype = str).set_index('Verb')\n",
    "verb_series = pd.read_csv('verbs.csv', names = ['Meaning', 'Verb'], dtype = str).set_index('Verb')\n",
    "short_ir_verb_series.head()"
   ]
  },
  {
   "cell_type": "code",
   "execution_count": 29,
   "metadata": {},
   "outputs": [],
   "source": [
    "class Rule:\n",
    "    a = 1\n",
    "    def __init__(self, condition, conjugate, condition_for_mess_up = lambda pronoun, verb:False):\n",
    "        self.condition = condition\n",
    "        self.conjugate = conjugate\n",
    "        self.condition_for_mess_up = condition_for_mess_up\n",
    "        self.a = Rule.a\n",
    "        Rule.a+=1\n",
    "    def __str__(self):\n",
    "        return f\"{self.a}\"\n",
    "\n",
    "rules = [\n",
    "    Rule(lambda pronoun, verb:verb in irregular_verb_df.index, lambda pronoun, verb:irregular_verb_df.loc[verb, pronoun]), \n",
    "    Rule(lambda pronoun, verb:verb.endswith('crire') and pronoun in ['nous', 'vous', 'ils'], lambda pronoun, verb:verb[:-2]+{'nous':'vons', 'vous':'vez', 'ils':'vent'}[pronoun], lambda pronoun, verb:verb.endswith('re') and pronoun in ['nous', 'vous', 'ils']), \n",
    "    Rule(lambda pronoun, verb:verb[-4:] in ['uire', 'dire', 'fire', 'lire'] and pronoun in ['il', 'nous', 'vous', 'ils'], lambda pronoun, verb:verb[:-2]+{'il':'t', 'nous':'sons', 'vous':'sez', 'ils':'sent'}[pronoun], lambda pronoun, verb:verb.endswith('re') and pronoun in ['il', 'nous', 'vous', 'ils']), \n",
    "    Rule(lambda pronoun, verb:verb in short_ir_verb_series.index, lambda pronoun, verb:verb[:-3]+{'je':'s', 'tu':'s', 'il':'t', 'nous':f'{verb[-3]}ons', 'vous':f'{verb[-3]}ez', 'ils':f'{verb[-3]}ent'}[pronoun], lambda pronoun, verb:verb.endswith('ir')), \n",
    "    Rule(lambda pronoun, verb:verb.endswith('rompre') and pronoun=='il', lambda pronoun, verb:verb[:-2]+'t', lambda pronoun, verb:verb.endswith('re') and pronoun=='il'), \n",
    "    Rule(lambda pronoun, verb:verb.endswith('enir'), lambda pronoun, verb:verb[:-4]+{'je':'iens', 'tu':'iens', 'il':'ient', 'nous':'enons', 'vous':'enez', 'ils':'iennent'}[pronoun], lambda x, y:True), \n",
    "    Rule(lambda pronoun, verb:(verb.endswith('llir') or verb.endswith('frir') or verb.endswith('vrir')), lambda pronoun, verb:verb[:-2]+{'je':'e', 'tu':'es', 'il':'e', 'nous':'ons', 'vous':'ez', 'ils':'ent'}[pronoun], lambda x, y:True), \n",
    "    Rule(lambda pronoun, verb:(verb.endswith('ayer') or verb.endswith('oyer') or verb.endswith('uyer')) and pronoun not in [\"nous\", 'vous'], lambda pronoun, verb:verb[:-3]+'i'+{'je':'e', 'tu':'es', 'il':'e', 'nous':'ons', 'vous':'ez', 'ils':'ent'}[pronoun], lambda x, y:True), \n",
    "    Rule(lambda pronoun, verb:(verb.endswith('eler') or verb.endswith('eter')) and pronoun not in [\"nous\", 'vous'], lambda pronoun, verb:verb[:-3]+verb[-3]*2+{'je':'e', 'tu':'es', 'il':'e', 'nous':'ons', 'vous':'ez', 'ils':'ent'}[pronoun], lambda x, y:True), \n",
    "    Rule(lambda pronoun, verb:verb.endswith('er') and verb[-4] in ['é', 'e'] and pronoun not in [\"nous\", 'vous'], lambda pronoun, verb:verb[:-4]+'è'+verb[-3]+{'je':'e', 'tu':'es', 'il':'e', 'nous':'ons', 'vous':'ez', 'ils':'ent'}[pronoun], lambda x, y:True), \n",
    "    Rule(lambda pronoun, verb:verb.endswith('cer') and pronoun=='nous', lambda pronoun, verb:verb[:-3]+'çons', lambda pronoun, verb:verb.endswith('er') and pronoun=='nous'), \n",
    "    Rule(lambda pronoun, verb:verb.endswith('ger') and pronoun=='nous', lambda pronoun, verb:verb[:-2]+'eons', lambda pronoun, verb:verb.endswith('er') and pronoun=='nous'), \n",
    "    Rule(lambda pronoun, verb:verb.endswith('er'), lambda pronoun, verb:verb[:-2]+{'je':'e', 'tu':'es', 'il':'e', 'nous':'ons', 'vous':'ez', 'ils':'ent'}[pronoun], lambda x, y:True), \n",
    "    Rule(lambda pronoun, verb:verb.endswith('ir'), lambda pronoun, verb:verb[:-2]+{'je':'is', 'tu':'is', 'il':'it', 'nous':'issons', 'vous':'issez', 'ils':'issent'}[pronoun], lambda x, y:True), \n",
    "    Rule(lambda pronoun, verb:verb.endswith('re'), lambda pronoun, verb:verb[:-2]+{'je':'s', 'tu':'s', 'il':'', 'nous':'ons', 'vous':'ez', 'ils':'ent'}[pronoun], lambda x, y:True), \n",
    "]\n",
    "#todo ir verbs"
   ]
  },
  {
   "cell_type": "code",
   "execution_count": 30,
   "metadata": {},
   "outputs": [],
   "source": [
    "def generate_irregular_verb(num_of_answers = 4):\n",
    "    verb = random.choice(irregular_verb_df.index)\n",
    "    pronoun = random.choice(irregular_verb_df.columns[2:])\n",
    "    conjugation = irregular_verb_df.loc[verb, pronoun]\n",
    "    incorrects = random.sample(set(irregular_verb_df.loc[verb][1:])-{conjugation}, 3)\n",
    "    return f\"{verb}, {pronoun}\", random.sample(incorrects+[conjugation], num_of_answers), conjugation"
   ]
  },
  {
   "cell_type": "code",
   "execution_count": 33,
   "metadata": {},
   "outputs": [
    {
     "data": {
      "text/plain": "('reconduire, il',\n ['reconduit', 'reconduiit', 'recondient', 'reconduiie'],\n 'reconduit')"
     },
     "execution_count": 33,
     "metadata": {},
     "output_type": "execute_result"
    }
   ],
   "source": [
    "def generate_verb(verb = None, pronoun = None, num_of_answers = 4):\n",
    "    verb = verb if verb else random.choice(verb_series.index)\n",
    "    pronoun = pronoun if pronoun else random.choice(['je', 'tu', 'il', 'nous', 'vous', 'ils'])\n",
    "    # print(next(filter(lambda rule:rule.condition(pronoun, verb), rules)))\n",
    "    conjugation = next(filter(lambda rule:rule.condition(pronoun, verb), rules)).conjugate(pronoun, verb)\n",
    "    potential_incorrects = set(map(lambda rule:rule.conjugate(pronoun, verb), filter(lambda rule:rule.condition_for_mess_up(pronoun, verb), rules)))-{conjugation}\n",
    "    chosen_incorrects = random.sample(potential_incorrects, 3)\n",
    "    return f\"{verb}, {pronoun}\", random.sample(chosen_incorrects+[conjugation], num_of_answers), conjugation\n",
    "generate_verb('reconduire', 'il')"
   ]
  },
  {
   "cell_type": "code",
   "execution_count": 34,
   "metadata": {
    "scrolled": false
   },
   "outputs": [
    {
     "data": {
      "text/plain": "                    Questions               Answer 1  \\\n0           English To French                     ok   \n1          after-dinner drink                    vin   \n2                    iced tea               Orangina   \n3       lemon soda (eg, 7-Up)               pression   \n4                   tap water        eau du robisnet   \n5                         tea                    thé   \n6                   exhausted             tranquille   \n7                       smart                 fidèle   \n8                      to die                vouloir   \n9                     to find                maigrir   \n10          distressed, sorry                certain   \n11          French To English                     ok   \n12                        eau  pop, soda, soft drink   \n13                        thé       alcoholic drinks   \n14  eau plate;eau non-gazeuse             hard cider   \n15               express;café              tap water   \n16                        vin                   beer   \n17                      après                    for   \n18                    voyager             to ask for   \n19                  commencer               to break   \n20                        dur                   nice   \n21                stylo-plume                  ruler   \n22             French Synonym                     ok   \n23                       tari                  crevé   \n24                  toilettes                 réveil   \n25                    surpris              stupéfait   \n26                      calme                patient   \n27                  impatient                heureux   \n28             French Antonym                     ok   \n29                        sur               derrière   \n30                        sud                   nord   \n31                indifférent                 épuisé   \n32                   hésitant                affligé   \n33                      mince                   beau   \n34             Conjugate Verb                     ok   \n35                  avoir, tu                   avos   \n36                  aimer, tu                  aèmes   \n37                 écrire, tu                écriies   \n38               répandre, tu                répands   \n39               danser, nous                daenons   \n40           reconstruire, il            reconstrèie   \n41               étourdir, je                étourds   \n42                punir, vous                  puiez   \n43              endormir, ils              endorment   \n44                retenir, il                retenit   \n\n                        Answer 2                  Answer 3  \\\n0                             ok                        ok   \n1                       digestif  boissons non alcoolisées   \n2           soda;boisson gazeuse                 thé glacé   \n3                       Orangina                  limonade   \n4                           café            eau du robinet   \n5                tisane;infusion                      café   \n6                      satisfait                     agité   \n7                         habile                      laid   \n8                         mordre                    mourir   \n9                        retenir                     faire   \n10                   orgueilleux                   accepté   \n11                            ok                        ok   \n12                   citrus soda                 champagne   \n13                      espresso                herbal tea   \n14              alcoholic drinks                       tea   \n15          non-alcoholic drinks                      beer   \n16       anise-flavored apéritif                      wine   \n17  at the home/office of, among                     after   \n18            to begin; to start                 to travel   \n19                    to believe             to be able to   \n20                  well-behaved                 patriotic   \n21    front and back, both sides              fountain pen   \n22                            ok                        ok   \n23                        séparé                   honteux   \n24                         le WC                   chambre   \n25                         actif                    apeuré   \n26                       peureux                    serein   \n27                        pressé                     admis   \n28                            ok                        ok   \n29                          sous                       par   \n30                        droite                     ouest   \n31                        ennuyé                   certain   \n32                     incertain                       sûr   \n33                          gros                     moche   \n34                            ok                        ok   \n35                           avs                        as   \n36                         aimes                      aims   \n37                         écris                    écries   \n38                      répaiens                  répandes   \n39                       dançons                dansissons   \n40                   reconstruit              reconstruiie   \n41                      étouiens                  étourdis   \n42                         penez                  punissez   \n43                   endoiennent              endormissent   \n44                       retient                    retène   \n\n               Answer 4 Time Correct Answer  \n0                    ok    5     1, 2, 3, 4  \n1              digeetif   20              2  \n2                  coca   20              3  \n3          express;café   20              3  \n4                 cidre   20              3  \n5              Orangina   20              1  \n6                 crevé   20              4  \n7           sympathique   20              2  \n8           rentrouvrir   20              3  \n9               trouver   20              4  \n10               désolé   20              4  \n11                   ok    5     1, 2, 3, 4  \n12                water   20              4  \n13                  tea   20              4  \n14  still / plain water   20              4  \n15             espresso   20              4  \n16     alcoholic drinks   20              3  \n17         until, up to   20              3  \n18             to read    20              3  \n19   to begin; to start   20              4  \n20              patient   20              4  \n21   schoolbag, satchel   20              3  \n22                   ok    5     1, 2, 3, 4  \n23                admis   20              1  \n24                 bain   20              2  \n25               occupé   20              1  \n26              nerveux   20              3  \n27          indifférent   20              2  \n28                   ok    5     1, 2, 3, 4  \n29                 vers   20              2  \n30                 loin   20              1  \n31             enchanté   20              4  \n32               séparé   20              3  \n33                 fort   20              2  \n34                   ok    5     1, 2, 3, 4  \n35                avies   20              3  \n36                aiies   20              2  \n37               écriis   20              2  \n38             répandis   20              1  \n39              dansons   20              4  \n40           reconstrui   20              2  \n41              étouède   20              3  \n42                punez   20              3  \n43            endorient   20              1  \n44               reteie   20              2  ",
      "text/html": "<div>\n<style scoped>\n    .dataframe tbody tr th:only-of-type {\n        vertical-align: middle;\n    }\n\n    .dataframe tbody tr th {\n        vertical-align: top;\n    }\n\n    .dataframe thead th {\n        text-align: right;\n    }\n</style>\n<table border=\"1\" class=\"dataframe\">\n  <thead>\n    <tr style=\"text-align: right;\">\n      <th></th>\n      <th>Questions</th>\n      <th>Answer 1</th>\n      <th>Answer 2</th>\n      <th>Answer 3</th>\n      <th>Answer 4</th>\n      <th>Time</th>\n      <th>Correct Answer</th>\n    </tr>\n  </thead>\n  <tbody>\n    <tr>\n      <th>0</th>\n      <td>English To French</td>\n      <td>ok</td>\n      <td>ok</td>\n      <td>ok</td>\n      <td>ok</td>\n      <td>5</td>\n      <td>1, 2, 3, 4</td>\n    </tr>\n    <tr>\n      <th>1</th>\n      <td>after-dinner drink</td>\n      <td>vin</td>\n      <td>digestif</td>\n      <td>boissons non alcoolisées</td>\n      <td>digeetif</td>\n      <td>20</td>\n      <td>2</td>\n    </tr>\n    <tr>\n      <th>2</th>\n      <td>iced tea</td>\n      <td>Orangina</td>\n      <td>soda;boisson gazeuse</td>\n      <td>thé glacé</td>\n      <td>coca</td>\n      <td>20</td>\n      <td>3</td>\n    </tr>\n    <tr>\n      <th>3</th>\n      <td>lemon soda (eg, 7-Up)</td>\n      <td>pression</td>\n      <td>Orangina</td>\n      <td>limonade</td>\n      <td>express;café</td>\n      <td>20</td>\n      <td>3</td>\n    </tr>\n    <tr>\n      <th>4</th>\n      <td>tap water</td>\n      <td>eau du robisnet</td>\n      <td>café</td>\n      <td>eau du robinet</td>\n      <td>cidre</td>\n      <td>20</td>\n      <td>3</td>\n    </tr>\n    <tr>\n      <th>5</th>\n      <td>tea</td>\n      <td>thé</td>\n      <td>tisane;infusion</td>\n      <td>café</td>\n      <td>Orangina</td>\n      <td>20</td>\n      <td>1</td>\n    </tr>\n    <tr>\n      <th>6</th>\n      <td>exhausted</td>\n      <td>tranquille</td>\n      <td>satisfait</td>\n      <td>agité</td>\n      <td>crevé</td>\n      <td>20</td>\n      <td>4</td>\n    </tr>\n    <tr>\n      <th>7</th>\n      <td>smart</td>\n      <td>fidèle</td>\n      <td>habile</td>\n      <td>laid</td>\n      <td>sympathique</td>\n      <td>20</td>\n      <td>2</td>\n    </tr>\n    <tr>\n      <th>8</th>\n      <td>to die</td>\n      <td>vouloir</td>\n      <td>mordre</td>\n      <td>mourir</td>\n      <td>rentrouvrir</td>\n      <td>20</td>\n      <td>3</td>\n    </tr>\n    <tr>\n      <th>9</th>\n      <td>to find</td>\n      <td>maigrir</td>\n      <td>retenir</td>\n      <td>faire</td>\n      <td>trouver</td>\n      <td>20</td>\n      <td>4</td>\n    </tr>\n    <tr>\n      <th>10</th>\n      <td>distressed, sorry</td>\n      <td>certain</td>\n      <td>orgueilleux</td>\n      <td>accepté</td>\n      <td>désolé</td>\n      <td>20</td>\n      <td>4</td>\n    </tr>\n    <tr>\n      <th>11</th>\n      <td>French To English</td>\n      <td>ok</td>\n      <td>ok</td>\n      <td>ok</td>\n      <td>ok</td>\n      <td>5</td>\n      <td>1, 2, 3, 4</td>\n    </tr>\n    <tr>\n      <th>12</th>\n      <td>eau</td>\n      <td>pop, soda, soft drink</td>\n      <td>citrus soda</td>\n      <td>champagne</td>\n      <td>water</td>\n      <td>20</td>\n      <td>4</td>\n    </tr>\n    <tr>\n      <th>13</th>\n      <td>thé</td>\n      <td>alcoholic drinks</td>\n      <td>espresso</td>\n      <td>herbal tea</td>\n      <td>tea</td>\n      <td>20</td>\n      <td>4</td>\n    </tr>\n    <tr>\n      <th>14</th>\n      <td>eau plate;eau non-gazeuse</td>\n      <td>hard cider</td>\n      <td>alcoholic drinks</td>\n      <td>tea</td>\n      <td>still / plain water</td>\n      <td>20</td>\n      <td>4</td>\n    </tr>\n    <tr>\n      <th>15</th>\n      <td>express;café</td>\n      <td>tap water</td>\n      <td>non-alcoholic drinks</td>\n      <td>beer</td>\n      <td>espresso</td>\n      <td>20</td>\n      <td>4</td>\n    </tr>\n    <tr>\n      <th>16</th>\n      <td>vin</td>\n      <td>beer</td>\n      <td>anise-flavored apéritif</td>\n      <td>wine</td>\n      <td>alcoholic drinks</td>\n      <td>20</td>\n      <td>3</td>\n    </tr>\n    <tr>\n      <th>17</th>\n      <td>après</td>\n      <td>for</td>\n      <td>at the home/office of, among</td>\n      <td>after</td>\n      <td>until, up to</td>\n      <td>20</td>\n      <td>3</td>\n    </tr>\n    <tr>\n      <th>18</th>\n      <td>voyager</td>\n      <td>to ask for</td>\n      <td>to begin; to start</td>\n      <td>to travel</td>\n      <td>to read</td>\n      <td>20</td>\n      <td>3</td>\n    </tr>\n    <tr>\n      <th>19</th>\n      <td>commencer</td>\n      <td>to break</td>\n      <td>to believe</td>\n      <td>to be able to</td>\n      <td>to begin; to start</td>\n      <td>20</td>\n      <td>4</td>\n    </tr>\n    <tr>\n      <th>20</th>\n      <td>dur</td>\n      <td>nice</td>\n      <td>well-behaved</td>\n      <td>patriotic</td>\n      <td>patient</td>\n      <td>20</td>\n      <td>4</td>\n    </tr>\n    <tr>\n      <th>21</th>\n      <td>stylo-plume</td>\n      <td>ruler</td>\n      <td>front and back, both sides</td>\n      <td>fountain pen</td>\n      <td>schoolbag, satchel</td>\n      <td>20</td>\n      <td>3</td>\n    </tr>\n    <tr>\n      <th>22</th>\n      <td>French Synonym</td>\n      <td>ok</td>\n      <td>ok</td>\n      <td>ok</td>\n      <td>ok</td>\n      <td>5</td>\n      <td>1, 2, 3, 4</td>\n    </tr>\n    <tr>\n      <th>23</th>\n      <td>tari</td>\n      <td>crevé</td>\n      <td>séparé</td>\n      <td>honteux</td>\n      <td>admis</td>\n      <td>20</td>\n      <td>1</td>\n    </tr>\n    <tr>\n      <th>24</th>\n      <td>toilettes</td>\n      <td>réveil</td>\n      <td>le WC</td>\n      <td>chambre</td>\n      <td>bain</td>\n      <td>20</td>\n      <td>2</td>\n    </tr>\n    <tr>\n      <th>25</th>\n      <td>surpris</td>\n      <td>stupéfait</td>\n      <td>actif</td>\n      <td>apeuré</td>\n      <td>occupé</td>\n      <td>20</td>\n      <td>1</td>\n    </tr>\n    <tr>\n      <th>26</th>\n      <td>calme</td>\n      <td>patient</td>\n      <td>peureux</td>\n      <td>serein</td>\n      <td>nerveux</td>\n      <td>20</td>\n      <td>3</td>\n    </tr>\n    <tr>\n      <th>27</th>\n      <td>impatient</td>\n      <td>heureux</td>\n      <td>pressé</td>\n      <td>admis</td>\n      <td>indifférent</td>\n      <td>20</td>\n      <td>2</td>\n    </tr>\n    <tr>\n      <th>28</th>\n      <td>French Antonym</td>\n      <td>ok</td>\n      <td>ok</td>\n      <td>ok</td>\n      <td>ok</td>\n      <td>5</td>\n      <td>1, 2, 3, 4</td>\n    </tr>\n    <tr>\n      <th>29</th>\n      <td>sur</td>\n      <td>derrière</td>\n      <td>sous</td>\n      <td>par</td>\n      <td>vers</td>\n      <td>20</td>\n      <td>2</td>\n    </tr>\n    <tr>\n      <th>30</th>\n      <td>sud</td>\n      <td>nord</td>\n      <td>droite</td>\n      <td>ouest</td>\n      <td>loin</td>\n      <td>20</td>\n      <td>1</td>\n    </tr>\n    <tr>\n      <th>31</th>\n      <td>indifférent</td>\n      <td>épuisé</td>\n      <td>ennuyé</td>\n      <td>certain</td>\n      <td>enchanté</td>\n      <td>20</td>\n      <td>4</td>\n    </tr>\n    <tr>\n      <th>32</th>\n      <td>hésitant</td>\n      <td>affligé</td>\n      <td>incertain</td>\n      <td>sûr</td>\n      <td>séparé</td>\n      <td>20</td>\n      <td>3</td>\n    </tr>\n    <tr>\n      <th>33</th>\n      <td>mince</td>\n      <td>beau</td>\n      <td>gros</td>\n      <td>moche</td>\n      <td>fort</td>\n      <td>20</td>\n      <td>2</td>\n    </tr>\n    <tr>\n      <th>34</th>\n      <td>Conjugate Verb</td>\n      <td>ok</td>\n      <td>ok</td>\n      <td>ok</td>\n      <td>ok</td>\n      <td>5</td>\n      <td>1, 2, 3, 4</td>\n    </tr>\n    <tr>\n      <th>35</th>\n      <td>avoir, tu</td>\n      <td>avos</td>\n      <td>avs</td>\n      <td>as</td>\n      <td>avies</td>\n      <td>20</td>\n      <td>3</td>\n    </tr>\n    <tr>\n      <th>36</th>\n      <td>aimer, tu</td>\n      <td>aèmes</td>\n      <td>aimes</td>\n      <td>aims</td>\n      <td>aiies</td>\n      <td>20</td>\n      <td>2</td>\n    </tr>\n    <tr>\n      <th>37</th>\n      <td>écrire, tu</td>\n      <td>écriies</td>\n      <td>écris</td>\n      <td>écries</td>\n      <td>écriis</td>\n      <td>20</td>\n      <td>2</td>\n    </tr>\n    <tr>\n      <th>38</th>\n      <td>répandre, tu</td>\n      <td>répands</td>\n      <td>répaiens</td>\n      <td>répandes</td>\n      <td>répandis</td>\n      <td>20</td>\n      <td>1</td>\n    </tr>\n    <tr>\n      <th>39</th>\n      <td>danser, nous</td>\n      <td>daenons</td>\n      <td>dançons</td>\n      <td>dansissons</td>\n      <td>dansons</td>\n      <td>20</td>\n      <td>4</td>\n    </tr>\n    <tr>\n      <th>40</th>\n      <td>reconstruire, il</td>\n      <td>reconstrèie</td>\n      <td>reconstruit</td>\n      <td>reconstruiie</td>\n      <td>reconstrui</td>\n      <td>20</td>\n      <td>2</td>\n    </tr>\n    <tr>\n      <th>41</th>\n      <td>étourdir, je</td>\n      <td>étourds</td>\n      <td>étouiens</td>\n      <td>étourdis</td>\n      <td>étouède</td>\n      <td>20</td>\n      <td>3</td>\n    </tr>\n    <tr>\n      <th>42</th>\n      <td>punir, vous</td>\n      <td>puiez</td>\n      <td>penez</td>\n      <td>punissez</td>\n      <td>punez</td>\n      <td>20</td>\n      <td>3</td>\n    </tr>\n    <tr>\n      <th>43</th>\n      <td>endormir, ils</td>\n      <td>endorment</td>\n      <td>endoiennent</td>\n      <td>endormissent</td>\n      <td>endorient</td>\n      <td>20</td>\n      <td>1</td>\n    </tr>\n    <tr>\n      <th>44</th>\n      <td>retenir, il</td>\n      <td>retenit</td>\n      <td>retient</td>\n      <td>retène</td>\n      <td>reteie</td>\n      <td>20</td>\n      <td>2</td>\n    </tr>\n  </tbody>\n</table>\n</div>"
     },
     "execution_count": 34,
     "metadata": {},
     "output_type": "execute_result"
    }
   ],
   "source": [
    "ALL_CORRECT='1, 2, 3, 4'\n",
    "generate_instructional_question = lambda **kwargs:(kwargs['instruction'], ['ok']*4, ALL_CORRECT)\n",
    "question_entries = [\n",
    "    #ENFR\n",
    "    (generate_instructional_question, {'instruction':'English To French'}, 1, 0.4), \n",
    "    (generate_eng_to_french, {'category':'New'}, 5), \n",
    "    (generate_eng_to_french, {}, 5),\n",
    "    # FREN\n",
    "    (generate_instructional_question, {'instruction':'French To English'}, 1, 0),\n",
    "    (generate_french_to_eng, {'category':'New'}, 5), \n",
    "    (generate_french_to_eng, {}, 5), \n",
    "    # SYN    \n",
    "    (generate_instructional_question, {'instruction':'French Synonym'}, 1, 0.2), \n",
    "    (generate_synonym, {}, 5), \n",
    "    # ANT\n",
    "    (generate_instructional_question, {'instruction':'French Antonym'}, 1, 0.2), \n",
    "    (generate_antonym, {}, 5), \n",
    "    # IRREG\n",
    "    (generate_instructional_question, {'instruction':'Conjugate Verb'}, 1, 0), \n",
    "    (generate_verb, {}, 10)\n",
    "]\n",
    "\n",
    "qdf = pd.DataFrame(columns = ['Questions', 'Answer 1', 'Answer 2', 'Answer 3', 'Answer 4', 'Time', 'Correct Answer'])\n",
    "vocab_list = set()\n",
    "index = 0\n",
    "mess_up_answer_chance = 0.2\n",
    "chance_to_mess_up_correct = 0.5\n",
    "enable_replacers = True\n",
    "\n",
    "for question_entry in question_entries:\n",
    "    func_to_call = question_entry[0]\n",
    "    params = question_entry[1]\n",
    "    num_of_times = question_entry[2]\n",
    "    for question_num in range(num_of_times):\n",
    "        while True:\n",
    "            tup = func_to_call(**params)\n",
    "            if tup[0] in vocab_list:\n",
    "                continue\n",
    "            vocab_list.add(tup[0])\n",
    "            if tup[2] == ALL_CORRECT: # Instructional questions\n",
    "                correct_answer = tup[2]\n",
    "                time = 5\n",
    "            else:\n",
    "                correct_answer = tup[1].index(tup[2])+1\n",
    "                time = 20\n",
    "                if random.random()<=mess_up_answer_chance:\n",
    "                    if random.random()<=chance_to_mess_up_correct:\n",
    "                        answer_index_to_mess_up = correct_answer-1\n",
    "                    else:\n",
    "                        answer_index_to_mess_up = random.randrange(4)\n",
    "                    answer_to_mess_up = tup[1][answer_index_to_mess_up]\n",
    "                    potential_answer_modifiers = list(filter(lambda x:x.condition(answer_to_mess_up), answer_modifiers))\n",
    "                    if potential_answer_modifiers:\n",
    "                        # print(tup[0])\n",
    "                        answer_modifier = random.choice(potential_answer_modifiers)\n",
    "                        messed_up_answer = answer_modifier.action(answer_to_mess_up)\n",
    "                        tup[1][random.sample(set(range(4))-{correct_answer-1, answer_index_to_mess_up}, 1)[0]] = messed_up_answer\n",
    "                \n",
    "            qdf.loc[index] = [tup[0], *tup[1], time, correct_answer]\n",
    "            index+=1\n",
    "            break\n",
    "            \n",
    "    if func_to_call == generate_instructional_question:\n",
    "        vocab_list.clear()\n",
    "        mess_up_answer_chance = question_entry[3]\n",
    "    \n",
    "qdf"
   ]
  },
  {
   "cell_type": "code",
   "execution_count": 132,
   "metadata": {
    "pycharm": {
     "name": "#%%\n"
    }
   },
   "outputs": [],
   "source": [
    "qdf.to_csv('Kahoot Generated Questions.csv', encoding='utf-8-sig')"
   ]
  },
  {
   "cell_type": "code",
   "execution_count": 35,
   "metadata": {
    "pycharm": {
     "name": "#%%\n"
    }
   },
   "outputs": [],
   "source": [
    "df.to_csv('Master Vocab.csv', encoding='utf-8-sig')"
   ]
  },
  {
   "cell_type": "markdown",
   "metadata": {},
   "source": [
    "### Random Pronunciation Words"
   ]
  },
  {
   "cell_type": "code",
   "execution_count": 133,
   "metadata": {},
   "outputs": [],
   "source": [
    "import csv\n",
    "import itertools"
   ]
  },
  {
   "cell_type": "code",
   "execution_count": 134,
   "metadata": {},
   "outputs": [],
   "source": [
    "with open('Master Pronunciation.csv', 'r', encoding='utf-8-sig') as f:\n",
    "    cr = csv.reader(f)\n",
    "    l = list(itertools.chain(*cr))"
   ]
  },
  {
   "cell_type": "code",
   "execution_count": 176,
   "metadata": {},
   "outputs": [
    {
     "data": {
      "text/plain": [
       "'citron'"
      ]
     },
     "execution_count": 176,
     "metadata": {},
     "output_type": "execute_result"
    }
   ],
   "source": [
    "random.choice([w for w in l if True])"
   ]
  },
  {
   "cell_type": "markdown",
   "metadata": {},
   "source": [
    "### Generating Pronunciation"
   ]
  },
  {
   "cell_type": "code",
   "execution_count": 39,
   "metadata": {},
   "outputs": [],
   "source": [
    "import pickle"
   ]
  },
  {
   "cell_type": "code",
   "execution_count": 40,
   "metadata": {},
   "outputs": [
    {
     "data": {
      "text/plain": [
       "['de', 'la', 'le', 'et', 'les']"
      ]
     },
     "execution_count": 40,
     "metadata": {},
     "output_type": "execute_result"
    }
   ],
   "source": [
    "with open('top10kwords.pkl', 'rb') as f:\n",
    "    top10kwordslist = pickle.load(f)\n",
    "top10kwordslist[:5]"
   ]
  },
  {
   "cell_type": "code",
   "execution_count": 41,
   "metadata": {},
   "outputs": [
    {
     "data": {
      "text/plain": [
       "[]"
      ]
     },
     "execution_count": 41,
     "metadata": {},
     "output_type": "execute_result"
    }
   ],
   "source": [
    "[w for w in top10kwordslist if w.endswith('\\n')]"
   ]
  },
  {
   "cell_type": "code",
   "execution_count": 42,
   "metadata": {},
   "outputs": [
    {
     "data": {
      "text/plain": [
       "0     de\n",
       "1     la\n",
       "2     le\n",
       "3     et\n",
       "4    les\n",
       "dtype: object"
      ]
     },
     "execution_count": 42,
     "metadata": {},
     "output_type": "execute_result"
    }
   ],
   "source": [
    "frequent_series = pd.Series(top10kwordslist)\n",
    "frequent_series.head()"
   ]
  },
  {
   "cell_type": "code",
   "execution_count": 52,
   "metadata": {},
   "outputs": [
    {
     "name": "stdout",
     "output_type": "stream",
     "text": [
      "67                 moins\n",
      "94                  mois\n",
      "105                 soit\n",
      "108                 fois\n",
      "133                trois\n",
      "136                 doit\n",
      "166           croissance\n",
      "185                point\n",
      "189                avoir\n",
      "229                 voir\n",
      "237              pouvoir\n",
      "245                droit\n",
      "271            toutefois\n",
      "307               points\n",
      "323              parfois\n",
      "342                choix\n",
      "343              doivent\n",
      "363                  loi\n",
      "366               savoir\n",
      "367                 loin\n",
      "495                 quoi\n",
      "533               besoin\n",
      "560             pourquoi\n",
      "573               droits\n",
      "574               moitié\n",
      "607              voiture\n",
      "683                 voit\n",
      "695             l'emploi\n",
      "697                voire\n",
      "717               soient\n",
      "733                  moi\n",
      "753              d'avoir\n",
      "762              moindre\n",
      "790                 voie\n",
      "792              prévoit\n",
      "794                 noir\n",
      "799                 bois\n",
      "812            néanmoins\n",
      "892              mémoire\n",
      "915             voitures\n",
      "950                poids\n",
      "1006             besoins\n",
      "1032      d'exploitation\n",
      "1045          l'histoire\n",
      "1061                voix\n",
      "1072            Pourquoi\n",
      "1101                 soi\n",
      "1123              croire\n",
      "1128           Charleroi\n",
      "1137              choisi\n",
      "1169           Toutefois\n",
      "1177            histoire\n",
      "1182               voici\n",
      "1212                soir\n",
      "1254             emplois\n",
      "1287          patrimoine\n",
      "1296              droite\n",
      "1328             choisir\n",
      "1438            pouvoirs\n",
      "1446              devoir\n",
      "1525               Trois\n",
      "1625          bruxellois\n",
      "1658               soins\n",
      "1719          territoire\n",
      "1754                Soit\n",
      "1773              pointe\n",
      "1775               Voici\n",
      "1800             voisins\n",
      "1845               crois\n",
      "1860                 roi\n",
      "1909              emploi\n",
      "1912               croit\n",
      "1920         bruxelloise\n",
      "1936            d'emploi\n",
      "2017            recevoir\n",
      "2084             vouloir\n",
      "2101      luxembourgeois\n",
      "2162           d'emplois\n",
      "2325              voient\n",
      "2351           Néanmoins\n",
      "2369             emploie\n",
      "2491             rejoint\n",
      "2622                soin\n",
      "2665                lois\n",
      "2671             prévoir\n",
      "2680        savoir-faire\n",
      "2700             chinois\n",
      "2769            victoire\n",
      "2808             endroit\n",
      "2839            conjoint\n",
      "2860               toile\n",
      "2926               noire\n",
      "2957               froid\n",
      "3031                Quoi\n",
      "3047           rejoindre\n",
      "3147            liégeois\n",
      "3213                 foi\n",
      "3245                foie\n",
      "3286                coin\n",
      "3326             loisirs\n",
      "3362             Parfois\n",
      "3384              soirée\n",
      "3437            endroits\n",
      "3490              revoir\n",
      "3492               voies\n",
      "3540           liégeoise\n",
      "3653            boissons\n",
      "3671                 Roi\n",
      "3690         obligatoire\n",
      "3694            témoigne\n",
      "3766             poisson\n",
      "3787      l'exploitation\n",
      "3794           croissant\n",
      "3856            l'espoir\n",
      "3867               coins\n",
      "3898         laboratoire\n",
      "3927          croissante\n",
      "3956         accessoires\n",
      "3987               Moins\n",
      "4001             étoiles\n",
      "4004           concevoir\n",
      "4086              doigts\n",
      "4088              froide\n",
      "4102          promouvoir\n",
      "4123          L'histoire\n",
      "4162            Histoire\n",
      "4221              avoirs\n",
      "4274                toit\n",
      "4297             choisit\n",
      "4307              voisin\n",
      "4327           l'endroit\n",
      "4336       soigneusement\n",
      "4362               doigt\n",
      "4370                vois\n",
      "4386           prévoient\n",
      "4489            poissons\n",
      "4493                 Moi\n",
      "4524             espoirs\n",
      "4606               voile\n",
      "4611              gloire\n",
      "4639                joie\n",
      "4665      provisoirement\n",
      "4748          répertoire\n",
      "4770               noirs\n",
      "4802                soie\n",
      "4857       joint-venture\n",
      "4865              toiles\n",
      "4952           histoires\n",
      "5051          témoignent\n",
      "5126              espoir\n",
      "5133              poivre\n",
      "5171             suédois\n",
      "5215             étroite\n",
      "5226            moindres\n",
      "5234             choisie\n",
      "5239     luxembourgeoise\n",
      "5309        laboratoires\n",
      "5335            suédoise\n",
      "5385            exploite\n",
      "5458           exploiter\n",
      "5479               boire\n",
      "5515              noires\n",
      "5517          Bruxellois\n",
      "5546         témoignages\n",
      "5557             poignée\n",
      "5573          provisoire\n",
      "5608          d'histoire\n",
      "5646            chinoise\n",
      "5662             adjoint\n",
      "5701              valoir\n",
      "5733             n'avoir\n",
      "5750              miroir\n",
      "5766                dois\n",
      "5778               Point\n",
      "5798              étoile\n",
      "5854                Bois\n",
      "5937          anversoise\n",
      "5991             l'avoir\n",
      "6008             croient\n",
      "6022             témoins\n",
      "6029           conjoints\n",
      "6094           autrefois\n",
      "6095             choisis\n",
      "6148       accroissement\n",
      "6180             danoise\n",
      "6193             soigner\n",
      "6194              témoin\n",
      "6225            l'octroi\n",
      "6241           anversois\n",
      "6298              envoie\n",
      "6343           percevoir\n",
      "6671             Chinois\n",
      "6698              étroit\n",
      "6809         étroitement\n",
      "6835             terroir\n",
      "6841             boisson\n",
      "6912            mémoires\n",
      "6934               foire\n",
      "6941                noix\n",
      "6942             oiseaux\n",
      "7129          l'Histoire\n",
      "7138             Antoine\n",
      "7145          accessoire\n",
      "7190          témoignage\n",
      "7276               joint\n",
      "7367            l'Emploi\n",
      "7368     l'accroissement\n",
      "7369             l'envoi\n",
      "7581             joindre\n",
      "7691     refroidissement\n",
      "7702                Loin\n",
      "7740            Liégeois\n",
      "7754        exploitation\n",
      "7802         soixantaine\n",
      "7853        bruxelloises\n",
      "7892             voisine\n",
      "7929             soirées\n",
      "8104       conjointement\n",
      "8107            d'espoir\n",
      "8155              danois\n",
      "8170             renvoie\n",
      "8284                Soir\n",
      "8291           chinoises\n",
      "8324            soixante\n",
      "8345               croix\n",
      "8402               proie\n",
      "8410                soif\n",
      "8432            déboires\n",
      "8531              foires\n",
      "8540                poil\n",
      "8594     obligatoirement\n",
      "8664         choisissent\n",
      "8779         d'exploiter\n",
      "8884               Droit\n",
      "8895             devoirs\n",
      "8897             dévoile\n",
      "8955             éloigné\n",
      "9018            couloirs\n",
      "9057                 Loi\n",
      "9058                Noir\n",
      "9068            comptoir\n",
      "9187    luxembourgeoises\n",
      "9207           réservoir\n",
      "9214             tournoi\n",
      "9224       Conservatoire\n",
      "9264              loisir\n",
      "9332             Gandois\n",
      "9635            dévoiler\n",
      "9655             pointes\n",
      "9668             tiroirs\n",
      "9716             miroirs\n",
      "9734            toilette\n",
      "9844           Delaunois\n",
      "9902             oignons\n",
      "9944           bourgeois\n",
      "9957             déploie\n",
      "9958           désespoir\n",
      "dtype: object\n"
     ]
    }
   ],
   "source": [
    "previous_max_rows = pd.get_option('display.max_rows')\n",
    "pd.set_option('display.max_rows', None)\n",
    "print(frequent_series[frequent_series.str.contains(\"oi\")])\n",
    "pd.set_option('display.max_rows', previous_max_rows)"
   ]
  },
  {
   "cell_type": "code",
   "execution_count": 44,
   "metadata": {},
   "outputs": [
    {
     "data": {
      "text/html": [
       "<div>\n",
       "<style scoped>\n",
       "    .dataframe tbody tr th:only-of-type {\n",
       "        vertical-align: middle;\n",
       "    }\n",
       "\n",
       "    .dataframe tbody tr th {\n",
       "        vertical-align: top;\n",
       "    }\n",
       "\n",
       "    .dataframe thead th {\n",
       "        text-align: right;\n",
       "    }\n",
       "</style>\n",
       "<table border=\"1\" class=\"dataframe\">\n",
       "  <thead>\n",
       "    <tr style=\"text-align: right;\">\n",
       "      <th></th>\n",
       "      <th>Meaning</th>\n",
       "    </tr>\n",
       "    <tr>\n",
       "      <th>Verb</th>\n",
       "      <th></th>\n",
       "    </tr>\n",
       "  </thead>\n",
       "  <tbody>\n",
       "  </tbody>\n",
       "</table>\n",
       "</div>"
      ],
      "text/plain": [
       "Empty DataFrame\n",
       "Columns: [Meaning]\n",
       "Index: []"
      ]
     },
     "execution_count": 44,
     "metadata": {},
     "output_type": "execute_result"
    }
   ],
   "source": [
    "verb_series[verb_series.index.str.startswith('u')]"
   ]
  },
  {
   "cell_type": "code",
   "execution_count": 45,
   "metadata": {},
   "outputs": [
    {
     "data": {
      "text/plain": [
       "10000"
      ]
     },
     "execution_count": 45,
     "metadata": {},
     "output_type": "execute_result"
    }
   ],
   "source": [
    "len(top10kwordslist)"
   ]
  },
  {
   "cell_type": "code",
   "execution_count": 46,
   "metadata": {},
   "outputs": [
    {
     "data": {
      "text/plain": [
       "'ouverture'"
      ]
     },
     "execution_count": 46,
     "metadata": {},
     "output_type": "execute_result"
    }
   ],
   "source": [
    "random.choice(frequent_series)"
   ]
  }
 ],
 "metadata": {
  "kernelspec": {
   "display_name": "Python 3",
   "language": "python",
   "name": "python3"
  },
  "language_info": {
   "codemirror_mode": {
    "name": "ipython",
    "version": 3
   },
   "file_extension": ".py",
   "mimetype": "text/x-python",
   "name": "python",
   "nbconvert_exporter": "python",
   "pygments_lexer": "ipython3",
   "version": "3.8.3"
  }
 },
 "nbformat": 4,
 "nbformat_minor": 1
}