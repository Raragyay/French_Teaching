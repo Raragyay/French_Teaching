{
 "cells": [
  {
   "cell_type": "code",
   "execution_count": 1,
   "metadata": {},
   "outputs": [],
   "source": [
    "from typing import List, Tuple\n",
    "import pandas as pd\n",
    "import numpy as np\n",
    "import random\n",
    "import os"
   ]
  },
  {
   "cell_type": "code",
   "execution_count": 2,
   "metadata": {
    "pycharm": {
     "name": "#%%\n"
    }
   },
   "outputs": [
    {
     "name": "stdout",
     "output_type": "stream",
     "text": [
      "body.csv\n",
      "careers.csv\n",
      "chores.csv\n",
      "directions.csv\n",
      "dishes_and_silverware.csv\n",
      "drinks.csv\n",
      "feelings.csv\n",
      "food.csv\n",
      "house.csv\n",
      "military.csv\n",
      "nature.csv\n",
      "personalities.csv\n",
      "phys_description.csv\n",
      "prepositions.csv\n",
      "relatives.csv\n",
      "school.csv\n",
      "verbs.csv\n",
      "weather.csv\n"
     ]
    },
    {
     "data": {
      "text/plain": "         English         French Antonym Category\n0           body          corps             body\n1           hair        cheveux             body\n2           head           tête             body\n3    skull, head          crâne             body\n4           face         visage             body\n..           ...            ...     ...      ...\n707        foggy  du brouillard          weather\n708      raining          pleut          weather\n709      pouring  pleut à verse          weather\n710      snowing          neige          weather\n711     freezing           gèle          weather\n\n[712 rows x 4 columns]",
      "text/html": "<div>\n<style scoped>\n    .dataframe tbody tr th:only-of-type {\n        vertical-align: middle;\n    }\n\n    .dataframe tbody tr th {\n        vertical-align: top;\n    }\n\n    .dataframe thead th {\n        text-align: right;\n    }\n</style>\n<table border=\"1\" class=\"dataframe\">\n  <thead>\n    <tr style=\"text-align: right;\">\n      <th></th>\n      <th>English</th>\n      <th>French</th>\n      <th>Antonym</th>\n      <th>Category</th>\n    </tr>\n  </thead>\n  <tbody>\n    <tr>\n      <th>0</th>\n      <td>body</td>\n      <td>corps</td>\n      <td></td>\n      <td>body</td>\n    </tr>\n    <tr>\n      <th>1</th>\n      <td>hair</td>\n      <td>cheveux</td>\n      <td></td>\n      <td>body</td>\n    </tr>\n    <tr>\n      <th>2</th>\n      <td>head</td>\n      <td>tête</td>\n      <td></td>\n      <td>body</td>\n    </tr>\n    <tr>\n      <th>3</th>\n      <td>skull, head</td>\n      <td>crâne</td>\n      <td></td>\n      <td>body</td>\n    </tr>\n    <tr>\n      <th>4</th>\n      <td>face</td>\n      <td>visage</td>\n      <td></td>\n      <td>body</td>\n    </tr>\n    <tr>\n      <th>...</th>\n      <td>...</td>\n      <td>...</td>\n      <td>...</td>\n      <td>...</td>\n    </tr>\n    <tr>\n      <th>707</th>\n      <td>foggy</td>\n      <td>du brouillard</td>\n      <td></td>\n      <td>weather</td>\n    </tr>\n    <tr>\n      <th>708</th>\n      <td>raining</td>\n      <td>pleut</td>\n      <td></td>\n      <td>weather</td>\n    </tr>\n    <tr>\n      <th>709</th>\n      <td>pouring</td>\n      <td>pleut à verse</td>\n      <td></td>\n      <td>weather</td>\n    </tr>\n    <tr>\n      <th>710</th>\n      <td>snowing</td>\n      <td>neige</td>\n      <td></td>\n      <td>weather</td>\n    </tr>\n    <tr>\n      <th>711</th>\n      <td>freezing</td>\n      <td>gèle</td>\n      <td></td>\n      <td>weather</td>\n    </tr>\n  </tbody>\n</table>\n<p>712 rows × 4 columns</p>\n</div>"
     },
     "execution_count": 2,
     "metadata": {},
     "output_type": "execute_result"
    }
   ],
   "source": [
    "df = pd.DataFrame()\n",
    "for file in sorted(os.listdir(\"./vocab_database\")):\n",
    "    if file.endswith('.csv'):\n",
    "        print(file)\n",
    "        temp_df = pd.read_csv(f\"./vocab_database/{file}\", names = ['English', 'French', 'Antonym'], dtype = str)\n",
    "        temp_df['Category'] = file.replace('.csv', '')\n",
    "        df = df.append(temp_df, ignore_index = True)\n",
    "df['Antonym'] = df['Antonym'].replace(np.nan, \"\")\n",
    "df"
   ]
  },
  {
   "cell_type": "code",
   "execution_count": 3,
   "metadata": {},
   "outputs": [
    {
     "data": {
      "text/plain": "         English           French Antonym Category\n0           body          {corps}      {}     body\n1           hair        {cheveux}      {}     body\n2           head           {tête}      {}     body\n3    skull, head          {crâne}      {}     body\n4           face         {visage}      {}     body\n..           ...              ...     ...      ...\n707        foggy  {du brouillard}      {}  weather\n708      raining          {pleut}      {}  weather\n709      pouring  {pleut à verse}      {}  weather\n710      snowing          {neige}      {}  weather\n711     freezing           {gèle}      {}  weather\n\n[712 rows x 4 columns]",
      "text/html": "<div>\n<style scoped>\n    .dataframe tbody tr th:only-of-type {\n        vertical-align: middle;\n    }\n\n    .dataframe tbody tr th {\n        vertical-align: top;\n    }\n\n    .dataframe thead th {\n        text-align: right;\n    }\n</style>\n<table border=\"1\" class=\"dataframe\">\n  <thead>\n    <tr style=\"text-align: right;\">\n      <th></th>\n      <th>English</th>\n      <th>French</th>\n      <th>Antonym</th>\n      <th>Category</th>\n    </tr>\n  </thead>\n  <tbody>\n    <tr>\n      <th>0</th>\n      <td>body</td>\n      <td>{corps}</td>\n      <td>{}</td>\n      <td>body</td>\n    </tr>\n    <tr>\n      <th>1</th>\n      <td>hair</td>\n      <td>{cheveux}</td>\n      <td>{}</td>\n      <td>body</td>\n    </tr>\n    <tr>\n      <th>2</th>\n      <td>head</td>\n      <td>{tête}</td>\n      <td>{}</td>\n      <td>body</td>\n    </tr>\n    <tr>\n      <th>3</th>\n      <td>skull, head</td>\n      <td>{crâne}</td>\n      <td>{}</td>\n      <td>body</td>\n    </tr>\n    <tr>\n      <th>4</th>\n      <td>face</td>\n      <td>{visage}</td>\n      <td>{}</td>\n      <td>body</td>\n    </tr>\n    <tr>\n      <th>...</th>\n      <td>...</td>\n      <td>...</td>\n      <td>...</td>\n      <td>...</td>\n    </tr>\n    <tr>\n      <th>707</th>\n      <td>foggy</td>\n      <td>{du brouillard}</td>\n      <td>{}</td>\n      <td>weather</td>\n    </tr>\n    <tr>\n      <th>708</th>\n      <td>raining</td>\n      <td>{pleut}</td>\n      <td>{}</td>\n      <td>weather</td>\n    </tr>\n    <tr>\n      <th>709</th>\n      <td>pouring</td>\n      <td>{pleut à verse}</td>\n      <td>{}</td>\n      <td>weather</td>\n    </tr>\n    <tr>\n      <th>710</th>\n      <td>snowing</td>\n      <td>{neige}</td>\n      <td>{}</td>\n      <td>weather</td>\n    </tr>\n    <tr>\n      <th>711</th>\n      <td>freezing</td>\n      <td>{gèle}</td>\n      <td>{}</td>\n      <td>weather</td>\n    </tr>\n  </tbody>\n</table>\n<p>712 rows × 4 columns</p>\n</div>"
     },
     "execution_count": 3,
     "metadata": {},
     "output_type": "execute_result"
    }
   ],
   "source": [
    "df['French'] = df['French'].apply(lambda s:set(s.split('; '))-{''})\n",
    "df['Antonym'] = df['Antonym'].apply(lambda s:set(s.split('; '))-{''})\n",
    "df"
   ]
  },
  {
   "cell_type": "code",
   "execution_count": 4,
   "metadata": {},
   "outputs": [
    {
     "name": "stdout",
     "output_type": "stream",
     "text": [
      "Found duplicate key: to do the dishes\n",
      "Found duplicate key: milk\n",
      "Found duplicate key: dining room\n",
      "Found duplicate key: soldier\n",
      "Found duplicate key: computer\n",
      "Found duplicate key: to eat\n",
      "Found duplicate key: to reopen\n",
      "Found duplicate key: to build\n",
      "Found duplicate key: to cook\n",
      "Found duplicate key: to shine\n"
     ]
    }
   ],
   "source": [
    "# Merge duplicate keys\n",
    "\n",
    "duplicate_keys = df[df.duplicated('English')]['English']\n",
    "for i, s in duplicate_keys.iteritems():\n",
    "    print(f\"Found duplicate key: {s}\")\n",
    "    sli = df[df['English'] == s]\n",
    "    for idx, row in list(sli.tail(len(sli)-1).iterrows()):\n",
    "        sli.iloc[0]['French'] |= row['French']\n",
    "        sli.iloc[0]['Antonym'] |= row['Antonym']\n",
    "    df.drop(index = sli.tail(len(sli)-1).index, inplace = True)"
   ]
  },
  {
   "cell_type": "code",
   "execution_count": 5,
   "metadata": {},
   "outputs": [],
   "source": [
    "df = df.set_index('English')"
   ]
  },
  {
   "cell_type": "code",
   "execution_count": 6,
   "metadata": {},
   "outputs": [
    {
     "data": {
      "text/plain": "array(['body', 'careers', 'chores', 'directions', 'dishes_and_silverware',\n       'drinks', 'feelings', 'food', 'house', 'military', 'nature',\n       'personalities', 'phys_description', 'prepositions', 'relatives',\n       'school', 'verbs', 'weather'], dtype=object)"
     },
     "execution_count": 6,
     "metadata": {},
     "output_type": "execute_result"
    }
   ],
   "source": [
    "df['Category'].unique()"
   ]
  },
  {
   "cell_type": "code",
   "execution_count": 7,
   "metadata": {
    "pycharm": {
     "name": "#%%\n"
    }
   },
   "outputs": [
    {
     "name": "stdout",
     "output_type": "stream",
     "text": [
      "916\n",
      "869\n"
     ]
    }
   ],
   "source": [
    "all_vocab = set()\n",
    "all_french_words = set()\n",
    "for l in df['French']:\n",
    "    all_vocab |= l\n",
    "    all_french_words |= l\n",
    "for l in df['Antonym']:\n",
    "    all_vocab |= l\n",
    "print(len(all_vocab))\n",
    "print(len(all_french_words))"
   ]
  },
  {
   "cell_type": "code",
   "execution_count": 8,
   "metadata": {},
   "outputs": [],
   "source": [
    "cat_to_vocab = df.groupby('Category').apply(lambda x: set.union(*x.French, *x.Antonym))\n",
    "cat_to_french = df.groupby('Category').apply(lambda x: set.union(*x.French))\n",
    "cat_to_vocab.loc['all'] = all_vocab\n",
    "cat_to_french.loc['all'] = all_french_words"
   ]
  },
  {
   "cell_type": "code",
   "execution_count": 9,
   "metadata": {},
   "outputs": [
    {
     "data": {
      "text/plain": "English\nmouth                         body\nmanager                    careers\nteacher                    careers\nto cook                     chores\npot          dishes_and_silverware\n                     ...          \nhusband                  relatives\nbinder                      school\nto build                     verbs\nto reopen                    verbs\nto shine                     verbs\nName: Category, Length: 104, dtype: object"
     },
     "execution_count": 9,
     "metadata": {},
     "output_type": "execute_result"
    }
   ],
   "source": [
    "cats_with_synonyms = df['Category'][df['French'].apply(lambda x: len(x)>1)] # More than 1 translation\n",
    "cats_with_synonyms"
   ]
  },
  {
   "cell_type": "code",
   "execution_count": 10,
   "metadata": {},
   "outputs": [
    {
     "data": {
      "text/plain": "English\nnorth             directions\nsouth             directions\neast              directions\nwest              directions\nleft              directions\n                    ...     \nfor             prepositions\nwithout         prepositions\naccording to    prepositions\nunder           prepositions\non              prepositions\nName: Category, Length: 108, dtype: object"
     },
     "execution_count": 10,
     "metadata": {},
     "output_type": "execute_result"
    }
   ],
   "source": [
    "cats_with_antonyms = df['Category'][df['Antonym'].apply(lambda x:len(x)>0)]\n",
    "cats_with_antonyms"
   ]
  },
  {
   "cell_type": "code",
   "execution_count": 12,
   "outputs": [
    {
     "data": {
      "text/plain": "{'abricot',\n 'agneau',\n 'ail',\n 'ananas',\n 'anchois',\n 'artichaut',\n 'asperges',\n 'aubergine',\n 'avoir faim',\n 'babeurre',\n 'banane',\n 'betterave',\n 'beurre',\n 'bifteck',\n 'biscuit',\n 'bonbons',\n 'carotte',\n 'cerise',\n 'champignon',\n 'chocolat',\n 'chou-fleur',\n 'citron',\n 'citron vert',\n 'concombre',\n 'confiture',\n 'courgette',\n 'croissant',\n 'crème',\n 'crème aigre',\n 'crème brûlée',\n 'crème caramel',\n 'crème glacée',\n 'cuisine',\n 'céleri',\n 'dessert',\n 'dinde',\n 'déjeuner',\n 'dîner',\n 'entrée',\n 'escargot',\n 'farine',\n 'figue',\n 'fraise',\n 'framboise',\n 'frites',\n 'fromage',\n 'fromage blanc',\n 'fruits',\n 'glace',\n 'goûter',\n 'grenade',\n 'gâteau',\n 'haricot',\n \"hors d'œuvre\",\n \"huile d'olive\",\n 'jambon',\n 'laitue',\n 'lapin',\n 'légumes',\n 'manger',\n 'mayonnaise',\n 'maïs',\n 'melon',\n 'mousse au chocolat',\n 'moutarde',\n 'myrtille',\n 'mûre',\n 'oignon',\n 'orange',\n 'pain',\n 'pain grillé',\n 'pamplemousse',\n 'pastèque',\n 'petit-déjeuner',\n 'petits pois',\n 'plat principal',\n 'poire',\n 'poisson',\n 'poivre',\n 'poivron',\n 'pomme',\n 'pomme de terre',\n 'porc',\n 'potage',\n 'poulet',\n 'produits laitiers',\n 'prune',\n 'pâtes',\n 'pêche',\n 'radis',\n 'raisin',\n 'repas',\n 'restaurant',\n 'riz',\n 'rosbif',\n 'salade',\n 'salle à manger',\n 'sauce',\n 'saucisson',\n 'sel',\n 'soupe',\n 'sucre',\n 'tarte',\n 'tomate',\n 'vanille',\n 'veau',\n 'viande',\n 'épinards',\n 'œuf'}"
     },
     "execution_count": 12,
     "metadata": {},
     "output_type": "execute_result"
    }
   ],
   "source": [
    "cat_to_french['food']"
   ],
   "metadata": {
    "collapsed": false,
    "pycharm": {
     "name": "#%%\n"
    }
   }
  },
  {
   "cell_type": "code",
   "execution_count": 11,
   "metadata": {
    "pycharm": {
     "name": "#%%\n"
    }
   },
   "outputs": [],
   "source": [
    "def generate_eng_to_french(category:str = None, num_of_answers = 4)->Tuple[str, List[str], str]:\n",
    "    if category is None:\n",
    "        category = random.choice(df['Category'])\n",
    "    word = random.choice(df[df['Category'] == category].index)\n",
    "    chosen_french_def = random.sample(df.loc[word]['French'], 1)[0]\n",
    "    incorrect_answers = random.sample(cat_to_vocab[df.loc[word, 'Category']]-df.loc[word, 'French'], k = num_of_answers-1)\n",
    "    return word, random.sample(incorrect_answers+[chosen_french_def], num_of_answers), chosen_french_def"
   ]
  },
  {
   "cell_type": "code",
   "execution_count": 12,
   "metadata": {
    "pycharm": {
     "name": "#%%\n"
    }
   },
   "outputs": [],
   "source": [
    "def generate_french_to_eng(category:str = None, num_of_answers = 4):\n",
    "    if category is None:\n",
    "        category = random.choice(df['Category'])\n",
    "    word = random.sample(cat_to_french[category], 1)[0]\n",
    "    possible_eng_defs = df[df.apply(lambda x: word in x['French'], axis = 1)].index\n",
    "    chosen_eng_def = random.choice(possible_eng_defs)\n",
    "    incorrect_answers = random.sample(set(df[df['Category'] == df.loc[chosen_eng_def, 'Category']].index)-set(possible_eng_defs), k = num_of_answers-1)\n",
    "    return word, random.sample(incorrect_answers+[chosen_eng_def], num_of_answers), chosen_eng_def"
   ]
  },
  {
   "cell_type": "code",
   "execution_count": 13,
   "metadata": {
    "pycharm": {
     "name": "#%%\n"
    }
   },
   "outputs": [],
   "source": [
    "def generate_synonym(category:str = None, num_of_answers = 4, answers_in_same_category = True):\n",
    "    if category is None:\n",
    "        category = random.choice(cats_with_synonyms)\n",
    "    series_with_synonyms = cats_with_synonyms[cats_with_synonyms == category].index\n",
    "    word = random.choice(series_with_synonyms)\n",
    "    french_synonym_chosen = random.sample(df.loc[word, \"French\"], 1)[0]\n",
    "    synonyms = set()\n",
    "    for poss in df[df['Category'] == category]['French']:\n",
    "        if french_synonym_chosen in poss:\n",
    "            synonyms |= poss\n",
    "    incorrect_answers = random.sample((cat_to_vocab.loc[category] if answers_in_same_category else all_vocab)-synonyms, num_of_answers-1)\n",
    "    synonyms.remove(french_synonym_chosen)\n",
    "    french_synonym_chosen_2=random.sample(synonyms, 1)[0]\n",
    "    return french_synonym_chosen, random.sample(incorrect_answers+[french_synonym_chosen_2], num_of_answers), french_synonym_chosen_2"
   ]
  },
  {
   "cell_type": "code",
   "execution_count": 14,
   "metadata": {},
   "outputs": [],
   "source": [
    "def generate_antonym(category:str = None, num_of_answers = 4):\n",
    "    if category is None:\n",
    "        category = random.choice(cats_with_antonyms)\n",
    "    chosen_english_word = random.choice(cats_with_antonyms[cats_with_antonyms == category].index)\n",
    "    chosen_french_word = random.sample(df.loc[chosen_english_word, 'French'], 1)[0]\n",
    "    chosen_antonym = random.sample(df.loc[chosen_english_word, 'Antonym'], 1)[0]\n",
    "    synonyms = set()\n",
    "    for poss in df['French']:\n",
    "        if chosen_french_word in poss:\n",
    "            synonyms |= poss\n",
    "    for poss in df['Antonym']:\n",
    "        if chosen_antonym in poss:\n",
    "            synonyms |= poss\n",
    "    incorrect_answers = random.sample(cat_to_vocab.loc[category]-synonyms, num_of_answers-1)\n",
    "    return chosen_french_word, random.sample(incorrect_answers+[chosen_antonym], num_of_answers), chosen_antonym"
   ]
  },
  {
   "cell_type": "code",
   "execution_count": 15,
   "metadata": {
    "pycharm": {
     "name": "#%%\n"
    }
   },
   "outputs": [],
   "source": [
    "def format_tuple(tup):\n",
    "    return f'{tup[0]}\\n{\"    \".join(tup[1])}'\n"
   ]
  },
  {
   "cell_type": "code",
   "execution_count": 16,
   "metadata": {
    "pycharm": {
     "name": "#%%\n"
    }
   },
   "outputs": [],
   "source": [
    "def print_tup(f, **kwargs):\n",
    "    tup = f(**kwargs)\n",
    "    print(format_tuple(tup))\n",
    "    print(tup[2])\n"
   ]
  },
  {
   "cell_type": "code",
   "execution_count": 17,
   "metadata": {
    "pycharm": {
     "name": "#%%\n"
    }
   },
   "outputs": [],
   "source": [
    "def print_eng_to_french(category = None):\n",
    "    print_tup(generate_eng_to_french, category = category)"
   ]
  },
  {
   "cell_type": "code",
   "execution_count": 18,
   "metadata": {
    "pycharm": {
     "name": "#%%\n"
    }
   },
   "outputs": [],
   "source": [
    "def print_french_to_eng(category = None):\n",
    "    print_tup(generate_french_to_eng, category = category)"
   ]
  },
  {
   "cell_type": "code",
   "execution_count": 19,
   "metadata": {
    "pycharm": {
     "name": "#%%\n"
    }
   },
   "outputs": [],
   "source": [
    "def print_different_cat_synonym():\n",
    "    print_tup(generate_synonym, answers_in_same_category = False)"
   ]
  },
  {
   "cell_type": "code",
   "execution_count": 20,
   "metadata": {},
   "outputs": [],
   "source": [
    "def print_same_cat_synonym():\n",
    "    print_tup(generate_synonym, answers_in_same_category = True)"
   ]
  },
  {
   "cell_type": "code",
   "execution_count": 21,
   "metadata": {},
   "outputs": [],
   "source": [
    "def print_antonym():\n",
    "    print_tup(generate_antonym)"
   ]
  },
  {
   "cell_type": "code",
   "execution_count": 22,
   "metadata": {
    "pycharm": {
     "name": "#%%\n"
    }
   },
   "outputs": [
    {
     "name": "stdout",
     "output_type": "stream",
     "text": [
      "friendly\n",
      "cordial    sélect    enthousiaste    fou\n",
      "cordial\n",
      "to follow\n",
      "intervenir    cueillir    étudier    suivre\n",
      "suivre\n",
      "to go\n",
      "retenir    rompre    aller    recevoir\n",
      "aller\n"
     ]
    }
   ],
   "source": [
    "print_eng_to_french()\n",
    "print_eng_to_french()\n",
    "print_eng_to_french()"
   ]
  },
  {
   "cell_type": "code",
   "execution_count": 23,
   "metadata": {
    "pycharm": {
     "name": "#%%\n"
    }
   },
   "outputs": [
    {
     "name": "stdout",
     "output_type": "stream",
     "text": [
      "en colère\n",
      "angry    indifferent    jealous    calm\n",
      "angry\n",
      "belle-soeur\n",
      "granddaughter    step-sister, sister-in-law    aunt    son\n",
      "step-sister, sister-in-law\n",
      "en\n",
      "in front of    against, versus    to, at, in    in, to\n",
      "in, to\n"
     ]
    }
   ],
   "source": [
    "print_french_to_eng()\n",
    "print_french_to_eng()\n",
    "print_french_to_eng()"
   ]
  },
  {
   "cell_type": "code",
   "execution_count": 24,
   "metadata": {
    "pycharm": {
     "name": "#%%\n"
    }
   },
   "outputs": [
    {
     "name": "stdout",
     "output_type": "stream",
     "text": [
      "énergique\n",
      "cidre    patient    cousin    animé\n",
      "animé\n",
      "sous\n",
      "dessous    traduire    pompier    inintellilgent\n",
      "dessous\n",
      "bain\n",
      "baignoire    rendre    véranda    cidre\n",
      "baignoire\n"
     ]
    }
   ],
   "source": [
    "print_different_cat_synonym()\n",
    "print_different_cat_synonym()\n",
    "print_different_cat_synonym()"
   ]
  },
  {
   "cell_type": "code",
   "execution_count": 25,
   "metadata": {},
   "outputs": [
    {
     "name": "stdout",
     "output_type": "stream",
     "text": [
      "lâche\n",
      "courageux    froussard    excentrique    piquant\n",
      "froussard\n",
      "le WC\n",
      "ordi    toilettes    réveil    maison\n",
      "toilettes\n",
      "indifférent\n",
      "impartial    étourdi    déconfit    hâte\n",
      "impartial\n"
     ]
    }
   ],
   "source": [
    "print_same_cat_synonym()\n",
    "print_same_cat_synonym()\n",
    "print_same_cat_synonym()"
   ]
  },
  {
   "cell_type": "code",
   "execution_count": 26,
   "metadata": {},
   "outputs": [
    {
     "name": "stdout",
     "output_type": "stream",
     "text": [
      "occupé\n",
      "ennuyé    béat    fâché    en colère\n",
      "ennuyé\n",
      "ébahi\n",
      "serein    isolé    admis    désorienté\n",
      "serein\n",
      "dessous\n",
      "dans    dessus    exactement    dedans\n",
      "dessus\n"
     ]
    }
   ],
   "source": [
    "print_antonym()\n",
    "print_antonym()\n",
    "print_antonym()"
   ]
  },
  {
   "cell_type": "code",
   "execution_count": 27,
   "metadata": {},
   "outputs": [],
   "source": [
    "class AnswerModifier:\n",
    "    def __init__(self, condition, action):\n",
    "        self.condition = condition\n",
    "        self.action = action\n",
    "\n",
    "def ca(c, a):\n",
    "    return AnswerModifier(c, a)\n",
    "\n",
    "def replace_some(old:str, news:list):\n",
    "    def replacer(s:str):\n",
    "        return random.choice(news).join(s.split(old, random.randint(1, s.count(old))) if random.choice([True, False]) else s.rsplit(old, random.randint(1, s.count(old))))\n",
    "    return replacer\n",
    "\n",
    "answer_modifiers = [\n",
    "    ca(lambda x:'e' in x, replace_some('e', ['é', 'è', 'ê', 'es', 'ee'])), \n",
    "    ca(lambda x:'é' in x, replace_some('é', ['e', 'è', 'ê', 'es', 'ee'])), \n",
    "    ca(lambda x:'è' in x, replace_some('è', ['é', 'e', 'ê', 'es', 'ee'])), \n",
    "    ca(lambda x:'ê' in x, replace_some('ê', ['é', 'è', 'e', 'es', 'ee'])), \n",
    "    ca(lambda x:'es' in x, replace_some('es', ['é', 'è', 'ê', 'e', 'ee'])), \n",
    "    ca(lambda x:'ee' in x, replace_some('ee', ['é', 'è', 'ê', 'es', 'e'])), \n",
    "    ca(lambda x:'a' in x, replace_some('a', ['à', 'â'])), \n",
    "    ca(lambda x:'à' in x, replace_some('à', ['a', 'â'])), \n",
    "    ca(lambda x:'â' in x, replace_some('â', ['à', 'a'])), \n",
    "    ca(lambda x:'c' in x, replace_some('c', ['ç'])), \n",
    "    ca(lambda x:'ç' in x, replace_some('ç', ['c'])), \n",
    "    ca(lambda x:'s' in x, replace_some('s', ['ss', 'se'])), \n",
    "    ca(lambda x:'ss' in x, replace_some('ss', ['s', 'se'])), \n",
    "    ca(lambda x:'se' in x, replace_some('se', ['ss', 's'])), \n",
    "    ca(lambda x:'i' in x, replace_some('i', ['is', 'iss'])), \n",
    "    ca(lambda x:'is' in x, replace_some('is', ['i', 'iss'])), \n",
    "    ca(lambda x:'iss' in x, replace_some('iss', ['is', 'i'])), \n",
    "    ca(lambda x:'n' in x, replace_some('n', ['gn'])), \n",
    "    ca(lambda x:'gn' in x, replace_some('gn', ['n'])), \n",
    "    \n",
    "]\n",
    "#todo cartesian matrix stuff"
   ]
  },
  {
   "cell_type": "code",
   "execution_count": 28,
   "metadata": {},
   "outputs": [
    {
     "data": {
      "text/html": [
       "<div>\n",
       "<style scoped>\n",
       "    .dataframe tbody tr th:only-of-type {\n",
       "        vertical-align: middle;\n",
       "    }\n",
       "\n",
       "    .dataframe tbody tr th {\n",
       "        vertical-align: top;\n",
       "    }\n",
       "\n",
       "    .dataframe thead th {\n",
       "        text-align: right;\n",
       "    }\n",
       "</style>\n",
       "<table border=\"1\" class=\"dataframe\">\n",
       "  <thead>\n",
       "    <tr style=\"text-align: right;\">\n",
       "      <th></th>\n",
       "      <th>Meaning</th>\n",
       "    </tr>\n",
       "    <tr>\n",
       "      <th>Verb</th>\n",
       "      <th></th>\n",
       "    </tr>\n",
       "  </thead>\n",
       "  <tbody>\n",
       "    <tr>\n",
       "      <th>partir</th>\n",
       "      <td>to leave</td>\n",
       "    </tr>\n",
       "    <tr>\n",
       "      <th>consentir</th>\n",
       "      <td>to consent</td>\n",
       "    </tr>\n",
       "    <tr>\n",
       "      <th>départir</th>\n",
       "      <td>to accord</td>\n",
       "    </tr>\n",
       "    <tr>\n",
       "      <th>dormir</th>\n",
       "      <td>to sleep</td>\n",
       "    </tr>\n",
       "    <tr>\n",
       "      <th>endormir</th>\n",
       "      <td>to put/send to sleep</td>\n",
       "    </tr>\n",
       "  </tbody>\n",
       "</table>\n",
       "</div>"
      ],
      "text/plain": [
       "                        Meaning\n",
       "Verb                           \n",
       "partir                 to leave\n",
       "consentir            to consent\n",
       "départir              to accord\n",
       "dormir                 to sleep\n",
       "endormir   to put/send to sleep"
      ]
     },
     "execution_count": 28,
     "metadata": {},
     "output_type": "execute_result"
    }
   ],
   "source": [
    "irregular_verb_df = pd.read_csv('VERB - irregular.csv', names = ['Verb', 'Meaning', 'je', 'tu', 'il', 'nous', 'vous', 'ils'], dtype = str)\n",
    "irregular_verb_df.set_index('Verb', inplace = True)\n",
    "irregular_verb_df.head()\n",
    "short_ir_verb_series = pd.read_csv('VERB - short ir verbs.csv', names = ['Verb', 'Meaning'], dtype = str).set_index('Verb')\n",
    "verb_series = pd.read_csv('./vocab_database/verbs.csv', names = ['Meaning', 'Verb'], dtype = str).set_index('Verb')\n",
    "short_ir_verb_series.head()"
   ]
  },
  {
   "cell_type": "code",
   "execution_count": 29,
   "metadata": {},
   "outputs": [],
   "source": [
    "class Rule:\n",
    "    a = 1\n",
    "    def __init__(self, condition, conjugate, condition_for_mess_up = lambda pronoun, verb:False):\n",
    "        self.condition = condition\n",
    "        self.conjugate = conjugate\n",
    "        self.condition_for_mess_up = condition_for_mess_up\n",
    "        self.a = Rule.a\n",
    "        Rule.a += 1\n",
    "    def __str__(self):\n",
    "        return f\"{self.a}\"\n",
    "\n",
    "rules = [\n",
    "    Rule(lambda pronoun, verb:verb in irregular_verb_df.index, lambda pronoun, verb:irregular_verb_df.loc[verb, pronoun]), \n",
    "    Rule(lambda pronoun, verb:verb.endswith('crire') and pronoun in ['nous', 'vous', 'ils'], lambda pronoun, verb:verb[:-2]+{'nous':'vons', 'vous':'vez', 'ils':'vent'}[pronoun], lambda pronoun, verb:verb.endswith('re') and pronoun in ['nous', 'vous', 'ils']), \n",
    "    Rule(lambda pronoun, verb:verb[-4:] in ['uire', 'dire', 'fire', 'lire'] and pronoun in ['il', 'nous', 'vous', 'ils'], lambda pronoun, verb:verb[:-2]+{'il':'t', 'nous':'sons', 'vous':'sez', 'ils':'sent'}[pronoun], lambda pronoun, verb:verb.endswith('re') and pronoun in ['il', 'nous', 'vous', 'ils']), \n",
    "    Rule(lambda pronoun, verb:verb in short_ir_verb_series.index, lambda pronoun, verb:verb[:-3]+{'je':'s', 'tu':'s', 'il':'t', 'nous':f'{verb[-3]}ons', 'vous':f'{verb[-3]}ez', 'ils':f'{verb[-3]}ent'}[pronoun], lambda pronoun, verb:verb.endswith('ir')), \n",
    "    Rule(lambda pronoun, verb:verb.endswith('rompre') and pronoun=='il', lambda pronoun, verb:verb[:-2]+'t', lambda pronoun, verb:verb.endswith('re') and pronoun=='il'), \n",
    "    Rule(lambda pronoun, verb:verb.endswith('enir'), lambda pronoun, verb:verb[:-4]+{'je':'iens', 'tu':'iens', 'il':'ient', 'nous':'enons', 'vous':'enez', 'ils':'iennent'}[pronoun], lambda x, y:True), \n",
    "    Rule(lambda pronoun, verb:(verb.endswith('llir') or verb.endswith('frir') or verb.endswith('vrir')), lambda pronoun, verb:verb[:-2]+{'je':'e', 'tu':'es', 'il':'e', 'nous':'ons', 'vous':'ez', 'ils':'ent'}[pronoun], lambda x, y:True), \n",
    "    Rule(lambda pronoun, verb:(verb.endswith('ayer') or verb.endswith('oyer') or verb.endswith('uyer')) and pronoun not in [\"nous\", 'vous'], lambda pronoun, verb:verb[:-3]+'i'+{'je':'e', 'tu':'es', 'il':'e', 'nous':'ons', 'vous':'ez', 'ils':'ent'}[pronoun], lambda x, y:True), \n",
    "    Rule(lambda pronoun, verb:(verb.endswith('eler') or verb.endswith('eter')) and pronoun not in [\"nous\", 'vous'], lambda pronoun, verb:verb[:-3]+verb[-3]*2+{'je':'e', 'tu':'es', 'il':'e', 'nous':'ons', 'vous':'ez', 'ils':'ent'}[pronoun], lambda x, y:True), \n",
    "    Rule(lambda pronoun, verb:verb.endswith('er') and verb[-4] in ['é', 'e'] and pronoun not in [\"nous\", 'vous'], lambda pronoun, verb:verb[:-4]+'è'+verb[-3]+{'je':'e', 'tu':'es', 'il':'e', 'nous':'ons', 'vous':'ez', 'ils':'ent'}[pronoun], lambda x, y:True), \n",
    "    Rule(lambda pronoun, verb:verb.endswith('cer') and pronoun=='nous', lambda pronoun, verb:verb[:-3]+'çons', lambda pronoun, verb:verb.endswith('er') and pronoun=='nous'), \n",
    "    Rule(lambda pronoun, verb:verb.endswith('ger') and pronoun=='nous', lambda pronoun, verb:verb[:-2]+'eons', lambda pronoun, verb:verb.endswith('er') and pronoun=='nous'), \n",
    "    Rule(lambda pronoun, verb:verb.endswith('er'), lambda pronoun, verb:verb[:-2]+{'je':'e', 'tu':'es', 'il':'e', 'nous':'ons', 'vous':'ez', 'ils':'ent'}[pronoun], lambda x, y:True), \n",
    "    Rule(lambda pronoun, verb:verb.endswith('ir'), lambda pronoun, verb:verb[:-2]+{'je':'is', 'tu':'is', 'il':'it', 'nous':'issons', 'vous':'issez', 'ils':'issent'}[pronoun], lambda x, y:True), \n",
    "    Rule(lambda pronoun, verb:verb.endswith('re'), lambda pronoun, verb:verb[:-2]+{'je':'s', 'tu':'s', 'il':'', 'nous':'ons', 'vous':'ez', 'ils':'ent'}[pronoun], lambda x, y:True), \n",
    "]\n",
    "#todo ir verbs"
   ]
  },
  {
   "cell_type": "code",
   "execution_count": 30,
   "metadata": {},
   "outputs": [],
   "source": [
    "def generate_irregular_verb(num_of_answers = 4):\n",
    "    verb = random.choice(irregular_verb_df.index)\n",
    "    pronoun = random.choice(irregular_verb_df.columns[2:])\n",
    "    conjugation = irregular_verb_df.loc[verb, pronoun]\n",
    "    incorrects = random.sample(set(irregular_verb_df.loc[verb][1:])-{conjugation}, 3)\n",
    "    return f\"{verb}, {pronoun}\", random.sample(incorrects+[conjugation], num_of_answers), conjugation"
   ]
  },
  {
   "cell_type": "code",
   "execution_count": 31,
   "metadata": {},
   "outputs": [
    {
     "data": {
      "text/plain": [
       "('reconduire, il',\n",
       " ['recondèie', 'recondient', 'reconduit', 'reconduiit'],\n",
       " 'reconduit')"
      ]
     },
     "execution_count": 31,
     "metadata": {},
     "output_type": "execute_result"
    }
   ],
   "source": [
    "def generate_verb(verb = None, pronoun = None, num_of_answers = 4):\n",
    "    verb = verb if verb else random.choice(verb_series.index)\n",
    "    pronoun = pronoun if pronoun else random.choice(['je', 'tu', 'il', 'nous', 'vous', 'ils'])\n",
    "    # print(next(filter(lambda rule:rule.condition(pronoun, verb), rules)))\n",
    "    conjugation = next(filter(lambda rule:rule.condition(pronoun, verb), rules)).conjugate(pronoun, verb)\n",
    "    potential_incorrects = set(map(lambda rule:rule.conjugate(pronoun, verb), filter(lambda rule:rule.condition_for_mess_up(pronoun, verb), rules)))-{conjugation}\n",
    "    chosen_incorrects = random.sample(potential_incorrects, 3)\n",
    "    return f\"{verb}, {pronoun}\", random.sample(chosen_incorrects+[conjugation], num_of_answers), conjugation\n",
    "generate_verb('reconduire', 'il')"
   ]
  },
  {
   "cell_type": "code",
   "execution_count": 32,
   "metadata": {
    "scrolled": false
   },
   "outputs": [
    {
     "data": {
      "text/html": [
       "<div>\n",
       "<style scoped>\n",
       "    .dataframe tbody tr th:only-of-type {\n",
       "        vertical-align: middle;\n",
       "    }\n",
       "\n",
       "    .dataframe tbody tr th {\n",
       "        vertical-align: top;\n",
       "    }\n",
       "\n",
       "    .dataframe thead th {\n",
       "        text-align: right;\n",
       "    }\n",
       "</style>\n",
       "<table border=\"1\" class=\"dataframe\">\n",
       "  <thead>\n",
       "    <tr style=\"text-align: right;\">\n",
       "      <th></th>\n",
       "      <th>Questions</th>\n",
       "      <th>Answer 1</th>\n",
       "      <th>Answer 2</th>\n",
       "      <th>Answer 3</th>\n",
       "      <th>Answer 4</th>\n",
       "      <th>Time</th>\n",
       "      <th>Correct Answer</th>\n",
       "    </tr>\n",
       "  </thead>\n",
       "  <tbody>\n",
       "    <tr>\n",
       "      <th>0</th>\n",
       "      <td>English To French</td>\n",
       "      <td>ok</td>\n",
       "      <td>ok</td>\n",
       "      <td>ok</td>\n",
       "      <td>ok</td>\n",
       "      <td>5</td>\n",
       "      <td>1, 2, 3, 4</td>\n",
       "    </tr>\n",
       "    <tr>\n",
       "      <th>1</th>\n",
       "      <td>after-dinner drink</td>\n",
       "      <td>pastis</td>\n",
       "      <td>soda</td>\n",
       "      <td>digestif</td>\n",
       "      <td>cidre</td>\n",
       "      <td>20</td>\n",
       "      <td>3</td>\n",
       "    </tr>\n",
       "    <tr>\n",
       "      <th>2</th>\n",
       "      <td>still / plain water</td>\n",
       "      <td>thé</td>\n",
       "      <td>coca</td>\n",
       "      <td>eau plate</td>\n",
       "      <td>cidre</td>\n",
       "      <td>20</td>\n",
       "      <td>3</td>\n",
       "    </tr>\n",
       "    <tr>\n",
       "      <th>3</th>\n",
       "      <td>wine</td>\n",
       "      <td>vign</td>\n",
       "      <td>boisson gazeuse</td>\n",
       "      <td>vin</td>\n",
       "      <td>pastis</td>\n",
       "      <td>20</td>\n",
       "      <td>3</td>\n",
       "    </tr>\n",
       "    <tr>\n",
       "      <th>4</th>\n",
       "      <td>tap water</td>\n",
       "      <td>eau du robinet</td>\n",
       "      <td>citron pressé</td>\n",
       "      <td>coca</td>\n",
       "      <td>cidre</td>\n",
       "      <td>20</td>\n",
       "      <td>1</td>\n",
       "    </tr>\n",
       "    <tr>\n",
       "      <th>5</th>\n",
       "      <td>hard cider</td>\n",
       "      <td>infusion</td>\n",
       "      <td>cidre</td>\n",
       "      <td>boisson gazeuse</td>\n",
       "      <td>eau</td>\n",
       "      <td>20</td>\n",
       "      <td>2</td>\n",
       "    </tr>\n",
       "    <tr>\n",
       "      <th>6</th>\n",
       "      <td>according to</td>\n",
       "      <td>selon</td>\n",
       "      <td>pour</td>\n",
       "      <td>environ</td>\n",
       "      <td>dessus</td>\n",
       "      <td>20</td>\n",
       "      <td>1</td>\n",
       "    </tr>\n",
       "    <tr>\n",
       "      <th>7</th>\n",
       "      <td>before</td>\n",
       "      <td>avant</td>\n",
       "      <td>pour</td>\n",
       "      <td>à</td>\n",
       "      <td>exactement</td>\n",
       "      <td>20</td>\n",
       "      <td>1</td>\n",
       "    </tr>\n",
       "    <tr>\n",
       "      <th>8</th>\n",
       "      <td>large bowl</td>\n",
       "      <td>saladier</td>\n",
       "      <td>coutéau</td>\n",
       "      <td>couteau</td>\n",
       "      <td>marmite</td>\n",
       "      <td>20</td>\n",
       "      <td>1</td>\n",
       "    </tr>\n",
       "    <tr>\n",
       "      <th>9</th>\n",
       "      <td>raining</td>\n",
       "      <td>mauvais</td>\n",
       "      <td>plêut</td>\n",
       "      <td>pleut</td>\n",
       "      <td>lourd</td>\n",
       "      <td>20</td>\n",
       "      <td>3</td>\n",
       "    </tr>\n",
       "    <tr>\n",
       "      <th>10</th>\n",
       "      <td>to contradict</td>\n",
       "      <td>contredire</td>\n",
       "      <td>défisnisr</td>\n",
       "      <td>regarder</td>\n",
       "      <td>définir</td>\n",
       "      <td>20</td>\n",
       "      <td>1</td>\n",
       "    </tr>\n",
       "    <tr>\n",
       "      <th>11</th>\n",
       "      <td>French To English</td>\n",
       "      <td>ok</td>\n",
       "      <td>ok</td>\n",
       "      <td>ok</td>\n",
       "      <td>ok</td>\n",
       "      <td>5</td>\n",
       "      <td>1, 2, 3, 4</td>\n",
       "    </tr>\n",
       "    <tr>\n",
       "      <th>12</th>\n",
       "      <td>bière</td>\n",
       "      <td>after-dinner drink</td>\n",
       "      <td>beer</td>\n",
       "      <td>citrus soda</td>\n",
       "      <td>wine</td>\n",
       "      <td>20</td>\n",
       "      <td>2</td>\n",
       "    </tr>\n",
       "    <tr>\n",
       "      <th>13</th>\n",
       "      <td>eau du robinet</td>\n",
       "      <td>milk</td>\n",
       "      <td>tap water</td>\n",
       "      <td>wine</td>\n",
       "      <td>water</td>\n",
       "      <td>20</td>\n",
       "      <td>2</td>\n",
       "    </tr>\n",
       "    <tr>\n",
       "      <th>14</th>\n",
       "      <td>thé</td>\n",
       "      <td>tea</td>\n",
       "      <td>champagne</td>\n",
       "      <td>cola</td>\n",
       "      <td>lemonade</td>\n",
       "      <td>20</td>\n",
       "      <td>1</td>\n",
       "    </tr>\n",
       "    <tr>\n",
       "      <th>15</th>\n",
       "      <td>eau non-gazeuse</td>\n",
       "      <td>beer</td>\n",
       "      <td>after-dinner drink</td>\n",
       "      <td>still / plain water</td>\n",
       "      <td>milk</td>\n",
       "      <td>20</td>\n",
       "      <td>3</td>\n",
       "    </tr>\n",
       "    <tr>\n",
       "      <th>16</th>\n",
       "      <td>boissons alcoolisées</td>\n",
       "      <td>beer</td>\n",
       "      <td>anise-flavored apéritif</td>\n",
       "      <td>beer on tap</td>\n",
       "      <td>alcoholic drinks</td>\n",
       "      <td>20</td>\n",
       "      <td>4</td>\n",
       "    </tr>\n",
       "    <tr>\n",
       "      <th>17</th>\n",
       "      <td>pouvoir</td>\n",
       "      <td>to drive</td>\n",
       "      <td>to miss</td>\n",
       "      <td>to confuse</td>\n",
       "      <td>to be able to</td>\n",
       "      <td>20</td>\n",
       "      <td>4</td>\n",
       "    </tr>\n",
       "    <tr>\n",
       "      <th>18</th>\n",
       "      <td>classe</td>\n",
       "      <td>dictionary</td>\n",
       "      <td>class</td>\n",
       "      <td>pencil sharpener</td>\n",
       "      <td>front and back, both sides</td>\n",
       "      <td>20</td>\n",
       "      <td>2</td>\n",
       "    </tr>\n",
       "    <tr>\n",
       "      <th>19</th>\n",
       "      <td>coca</td>\n",
       "      <td>cola</td>\n",
       "      <td>after-dinner drink</td>\n",
       "      <td>cocktail, pre-dinner drink</td>\n",
       "      <td>hard cider</td>\n",
       "      <td>20</td>\n",
       "      <td>1</td>\n",
       "    </tr>\n",
       "    <tr>\n",
       "      <th>20</th>\n",
       "      <td>attaque</td>\n",
       "      <td>war</td>\n",
       "      <td>attack</td>\n",
       "      <td>general</td>\n",
       "      <td>casualty</td>\n",
       "      <td>20</td>\n",
       "      <td>2</td>\n",
       "    </tr>\n",
       "    <tr>\n",
       "      <th>21</th>\n",
       "      <td>grenier</td>\n",
       "      <td>shower</td>\n",
       "      <td>attic</td>\n",
       "      <td>poster</td>\n",
       "      <td>kitchen sink</td>\n",
       "      <td>20</td>\n",
       "      <td>2</td>\n",
       "    </tr>\n",
       "    <tr>\n",
       "      <th>22</th>\n",
       "      <td>French Synonym</td>\n",
       "      <td>ok</td>\n",
       "      <td>ok</td>\n",
       "      <td>ok</td>\n",
       "      <td>ok</td>\n",
       "      <td>5</td>\n",
       "      <td>1, 2, 3, 4</td>\n",
       "    </tr>\n",
       "    <tr>\n",
       "      <th>23</th>\n",
       "      <td>désagréable</td>\n",
       "      <td>méchant</td>\n",
       "      <td>sans vie</td>\n",
       "      <td>nationaliste</td>\n",
       "      <td>séduisant</td>\n",
       "      <td>20</td>\n",
       "      <td>1</td>\n",
       "    </tr>\n",
       "    <tr>\n",
       "      <th>24</th>\n",
       "      <td>maigre</td>\n",
       "      <td>faible</td>\n",
       "      <td>gros</td>\n",
       "      <td>mince</td>\n",
       "      <td>joli</td>\n",
       "      <td>20</td>\n",
       "      <td>3</td>\n",
       "    </tr>\n",
       "    <tr>\n",
       "      <th>25</th>\n",
       "      <td>épuisé</td>\n",
       "      <td>énergique</td>\n",
       "      <td>affligé</td>\n",
       "      <td>crevé</td>\n",
       "      <td>occupé</td>\n",
       "      <td>20</td>\n",
       "      <td>3</td>\n",
       "    </tr>\n",
       "    <tr>\n",
       "      <th>26</th>\n",
       "      <td>joli</td>\n",
       "      <td>maigre</td>\n",
       "      <td>bèau</td>\n",
       "      <td>grand</td>\n",
       "      <td>beau</td>\n",
       "      <td>20</td>\n",
       "      <td>4</td>\n",
       "    </tr>\n",
       "    <tr>\n",
       "      <th>27</th>\n",
       "      <td>content</td>\n",
       "      <td>grincheux</td>\n",
       "      <td>seul</td>\n",
       "      <td>sèul</td>\n",
       "      <td>joyeux</td>\n",
       "      <td>20</td>\n",
       "      <td>4</td>\n",
       "    </tr>\n",
       "    <tr>\n",
       "      <th>28</th>\n",
       "      <td>French Antonym</td>\n",
       "      <td>ok</td>\n",
       "      <td>ok</td>\n",
       "      <td>ok</td>\n",
       "      <td>ok</td>\n",
       "      <td>5</td>\n",
       "      <td>1, 2, 3, 4</td>\n",
       "    </tr>\n",
       "    <tr>\n",
       "      <th>29</th>\n",
       "      <td>fort</td>\n",
       "      <td>sot</td>\n",
       "      <td>abominable</td>\n",
       "      <td>craintif</td>\n",
       "      <td>zélé</td>\n",
       "      <td>20</td>\n",
       "      <td>3</td>\n",
       "    </tr>\n",
       "    <tr>\n",
       "      <th>30</th>\n",
       "      <td>droite</td>\n",
       "      <td>gauche</td>\n",
       "      <td>haut</td>\n",
       "      <td>sud</td>\n",
       "      <td>près</td>\n",
       "      <td>20</td>\n",
       "      <td>1</td>\n",
       "    </tr>\n",
       "    <tr>\n",
       "      <th>31</th>\n",
       "      <td>derrière</td>\n",
       "      <td>grâce à</td>\n",
       "      <td>à</td>\n",
       "      <td>dessus</td>\n",
       "      <td>devant</td>\n",
       "      <td>20</td>\n",
       "      <td>4</td>\n",
       "    </tr>\n",
       "    <tr>\n",
       "      <th>32</th>\n",
       "      <td>loyal</td>\n",
       "      <td>vivant</td>\n",
       "      <td>rustre</td>\n",
       "      <td>traître</td>\n",
       "      <td>taquin</td>\n",
       "      <td>20</td>\n",
       "      <td>3</td>\n",
       "    </tr>\n",
       "    <tr>\n",
       "      <th>33</th>\n",
       "      <td>loin</td>\n",
       "      <td>gauche</td>\n",
       "      <td>près</td>\n",
       "      <td>haut</td>\n",
       "      <td>ouest</td>\n",
       "      <td>20</td>\n",
       "      <td>2</td>\n",
       "    </tr>\n",
       "    <tr>\n",
       "      <th>34</th>\n",
       "      <td>Conjugate Verb</td>\n",
       "      <td>ok</td>\n",
       "      <td>ok</td>\n",
       "      <td>ok</td>\n",
       "      <td>ok</td>\n",
       "      <td>5</td>\n",
       "      <td>1, 2, 3, 4</td>\n",
       "    </tr>\n",
       "    <tr>\n",
       "      <th>35</th>\n",
       "      <td>sortir, il</td>\n",
       "      <td>soète</td>\n",
       "      <td>sortit</td>\n",
       "      <td>sorie</td>\n",
       "      <td>sort</td>\n",
       "      <td>20</td>\n",
       "      <td>4</td>\n",
       "    </tr>\n",
       "    <tr>\n",
       "      <th>36</th>\n",
       "      <td>abîmer, tu</td>\n",
       "      <td>abîmmes</td>\n",
       "      <td>abèmes</td>\n",
       "      <td>abîmes</td>\n",
       "      <td>abîms</td>\n",
       "      <td>20</td>\n",
       "      <td>3</td>\n",
       "    </tr>\n",
       "    <tr>\n",
       "      <th>37</th>\n",
       "      <td>rentrouvrir, vous</td>\n",
       "      <td>rentrouviez</td>\n",
       "      <td>rentrouvrez</td>\n",
       "      <td>rentrouenez</td>\n",
       "      <td>rentrouèrez</td>\n",
       "      <td>20</td>\n",
       "      <td>2</td>\n",
       "    </tr>\n",
       "    <tr>\n",
       "      <th>38</th>\n",
       "      <td>reconstruire, il</td>\n",
       "      <td>reconstruiie</td>\n",
       "      <td>reconstruie</td>\n",
       "      <td>reconstrèie</td>\n",
       "      <td>reconstruit</td>\n",
       "      <td>20</td>\n",
       "      <td>4</td>\n",
       "    </tr>\n",
       "    <tr>\n",
       "      <th>39</th>\n",
       "      <td>réduire, il</td>\n",
       "      <td>réduiie</td>\n",
       "      <td>rédient</td>\n",
       "      <td>rédui</td>\n",
       "      <td>réduit</td>\n",
       "      <td>20</td>\n",
       "      <td>4</td>\n",
       "    </tr>\n",
       "    <tr>\n",
       "      <th>40</th>\n",
       "      <td>tenir, nous</td>\n",
       "      <td>tenissons</td>\n",
       "      <td>teions</td>\n",
       "      <td>tennons</td>\n",
       "      <td>tenons</td>\n",
       "      <td>20</td>\n",
       "      <td>4</td>\n",
       "    </tr>\n",
       "    <tr>\n",
       "      <th>41</th>\n",
       "      <td>bénir, nous</td>\n",
       "      <td>béions</td>\n",
       "      <td>benons</td>\n",
       "      <td>bénons</td>\n",
       "      <td>bénissons</td>\n",
       "      <td>20</td>\n",
       "      <td>4</td>\n",
       "    </tr>\n",
       "    <tr>\n",
       "      <th>42</th>\n",
       "      <td>défendre, il</td>\n",
       "      <td>défenie</td>\n",
       "      <td>défende</td>\n",
       "      <td>défeient</td>\n",
       "      <td>défend</td>\n",
       "      <td>20</td>\n",
       "      <td>4</td>\n",
       "    </tr>\n",
       "    <tr>\n",
       "      <th>43</th>\n",
       "      <td>rendormir, je</td>\n",
       "      <td>rendors</td>\n",
       "      <td>rendorme</td>\n",
       "      <td>rendormis</td>\n",
       "      <td>rendorie</td>\n",
       "      <td>20</td>\n",
       "      <td>1</td>\n",
       "    </tr>\n",
       "    <tr>\n",
       "      <th>44</th>\n",
       "      <td>interdire, nous</td>\n",
       "      <td>interenons</td>\n",
       "      <td>interdiissons</td>\n",
       "      <td>interèions</td>\n",
       "      <td>interdisons</td>\n",
       "      <td>20</td>\n",
       "      <td>4</td>\n",
       "    </tr>\n",
       "  </tbody>\n",
       "</table>\n",
       "</div>"
      ],
      "text/plain": [
       "               Questions            Answer 1                 Answer 2  \\\n",
       "0      English To French                  ok                       ok   \n",
       "1     after-dinner drink              pastis                     soda   \n",
       "2    still / plain water                 thé                     coca   \n",
       "3                   wine                vign          boisson gazeuse   \n",
       "4              tap water      eau du robinet            citron pressé   \n",
       "5             hard cider            infusion                    cidre   \n",
       "6           according to               selon                     pour   \n",
       "7                 before               avant                     pour   \n",
       "8             large bowl            saladier                  coutéau   \n",
       "9                raining             mauvais                    plêut   \n",
       "10         to contradict          contredire                défisnisr   \n",
       "11     French To English                  ok                       ok   \n",
       "12                 bière  after-dinner drink                     beer   \n",
       "13        eau du robinet                milk                tap water   \n",
       "14                   thé                 tea                champagne   \n",
       "15       eau non-gazeuse                beer       after-dinner drink   \n",
       "16  boissons alcoolisées                beer  anise-flavored apéritif   \n",
       "17               pouvoir            to drive                  to miss   \n",
       "18                classe          dictionary                    class   \n",
       "19                  coca                cola       after-dinner drink   \n",
       "20               attaque                 war                   attack   \n",
       "21               grenier              shower                    attic   \n",
       "22        French Synonym                  ok                       ok   \n",
       "23           désagréable             méchant                 sans vie   \n",
       "24                maigre              faible                     gros   \n",
       "25                épuisé           énergique                  affligé   \n",
       "26                  joli              maigre                     bèau   \n",
       "27               content           grincheux                     seul   \n",
       "28        French Antonym                  ok                       ok   \n",
       "29                  fort                 sot               abominable   \n",
       "30                droite              gauche                     haut   \n",
       "31              derrière             grâce à                        à   \n",
       "32                 loyal              vivant                   rustre   \n",
       "33                  loin              gauche                     près   \n",
       "34        Conjugate Verb                  ok                       ok   \n",
       "35            sortir, il               soète                   sortit   \n",
       "36            abîmer, tu             abîmmes                   abèmes   \n",
       "37     rentrouvrir, vous         rentrouviez              rentrouvrez   \n",
       "38      reconstruire, il        reconstruiie              reconstruie   \n",
       "39           réduire, il             réduiie                  rédient   \n",
       "40           tenir, nous           tenissons                   teions   \n",
       "41           bénir, nous              béions                   benons   \n",
       "42          défendre, il             défenie                  défende   \n",
       "43         rendormir, je             rendors                 rendorme   \n",
       "44       interdire, nous          interenons            interdiissons   \n",
       "\n",
       "                      Answer 3                    Answer 4 Time Correct Answer  \n",
       "0                           ok                          ok    5     1, 2, 3, 4  \n",
       "1                     digestif                       cidre   20              3  \n",
       "2                    eau plate                       cidre   20              3  \n",
       "3                          vin                      pastis   20              3  \n",
       "4                         coca                       cidre   20              1  \n",
       "5              boisson gazeuse                         eau   20              2  \n",
       "6                      environ                      dessus   20              1  \n",
       "7                            à                  exactement   20              1  \n",
       "8                      couteau                     marmite   20              1  \n",
       "9                        pleut                       lourd   20              3  \n",
       "10                    regarder                     définir   20              1  \n",
       "11                          ok                          ok    5     1, 2, 3, 4  \n",
       "12                 citrus soda                        wine   20              2  \n",
       "13                        wine                       water   20              2  \n",
       "14                        cola                    lemonade   20              1  \n",
       "15         still / plain water                        milk   20              3  \n",
       "16                 beer on tap            alcoholic drinks   20              4  \n",
       "17                  to confuse               to be able to   20              4  \n",
       "18            pencil sharpener  front and back, both sides   20              2  \n",
       "19  cocktail, pre-dinner drink                  hard cider   20              1  \n",
       "20                     general                    casualty   20              2  \n",
       "21                      poster                kitchen sink   20              2  \n",
       "22                          ok                          ok    5     1, 2, 3, 4  \n",
       "23                nationaliste                   séduisant   20              1  \n",
       "24                       mince                        joli   20              3  \n",
       "25                       crevé                      occupé   20              3  \n",
       "26                       grand                        beau   20              4  \n",
       "27                        sèul                      joyeux   20              4  \n",
       "28                          ok                          ok    5     1, 2, 3, 4  \n",
       "29                    craintif                        zélé   20              3  \n",
       "30                         sud                        près   20              1  \n",
       "31                      dessus                      devant   20              4  \n",
       "32                     traître                      taquin   20              3  \n",
       "33                        haut                       ouest   20              2  \n",
       "34                          ok                          ok    5     1, 2, 3, 4  \n",
       "35                       sorie                        sort   20              4  \n",
       "36                      abîmes                       abîms   20              3  \n",
       "37                 rentrouenez                 rentrouèrez   20              2  \n",
       "38                 reconstrèie                 reconstruit   20              4  \n",
       "39                       rédui                      réduit   20              4  \n",
       "40                     tennons                      tenons   20              4  \n",
       "41                      bénons                   bénissons   20              4  \n",
       "42                    défeient                      défend   20              4  \n",
       "43                   rendormis                    rendorie   20              1  \n",
       "44                  interèions                 interdisons   20              4  "
      ]
     },
     "execution_count": 32,
     "metadata": {},
     "output_type": "execute_result"
    }
   ],
   "source": [
    "ALL_CORRECT='1, 2, 3, 4'\n",
    "generate_instructional_question = lambda **kwargs:(kwargs['instruction'], ['ok']*4, ALL_CORRECT)\n",
    "question_entries = [\n",
    "    #ENFR\n",
    "    (generate_instructional_question, {'instruction':'English To French'}, 1, 0.4), \n",
    "    (generate_eng_to_french, {'category':'New'}, 5), \n",
    "    (generate_eng_to_french, {}, 5),\n",
    "    # FREN\n",
    "    (generate_instructional_question, {'instruction':'French To English'}, 1, 0),\n",
    "    (generate_french_to_eng, {'category':'New'}, 5), \n",
    "    (generate_french_to_eng, {}, 5), \n",
    "    # SYN    \n",
    "    (generate_instructional_question, {'instruction':'French Synonym'}, 1, 0.2), \n",
    "    (generate_synonym, {}, 5), \n",
    "    # ANT\n",
    "    (generate_instructional_question, {'instruction':'French Antonym'}, 1, 0.2), \n",
    "    (generate_antonym, {}, 5), \n",
    "    # IRREG\n",
    "    (generate_instructional_question, {'instruction':'Conjugate Verb'}, 1, 0), \n",
    "    (generate_verb, {}, 10)\n",
    "]\n",
    "\n",
    "qdf = pd.DataFrame(columns = ['Questions', 'Answer 1', 'Answer 2', 'Answer 3', 'Answer 4', 'Time', 'Correct Answer'])\n",
    "vocab_list = set()\n",
    "index = 0\n",
    "mess_up_answer_chance = 0.2\n",
    "chance_to_mess_up_correct = 0.5\n",
    "enable_replacers = True\n",
    "\n",
    "for question_entry in question_entries:\n",
    "    func_to_call = question_entry[0]\n",
    "    params = question_entry[1]\n",
    "    num_of_times = question_entry[2]\n",
    "    for question_num in range(num_of_times):\n",
    "        while True:\n",
    "            tup = func_to_call(**params)\n",
    "            if tup[0] in vocab_list:\n",
    "                continue\n",
    "            vocab_list.add(tup[0])\n",
    "            if tup[2] == ALL_CORRECT: # Instructional questions\n",
    "                correct_answer = tup[2]\n",
    "                time = 5\n",
    "            else:\n",
    "                correct_answer = tup[1].index(tup[2])+1\n",
    "                time = 20\n",
    "                if random.random()<=mess_up_answer_chance:\n",
    "                    if random.random()<=chance_to_mess_up_correct:\n",
    "                        answer_index_to_mess_up = correct_answer-1\n",
    "                    else:\n",
    "                        answer_index_to_mess_up = random.randrange(4)\n",
    "                    answer_to_mess_up = tup[1][answer_index_to_mess_up]\n",
    "                    potential_answer_modifiers = list(filter(lambda x:x.condition(answer_to_mess_up), answer_modifiers))\n",
    "                    if potential_answer_modifiers:\n",
    "                        # print(tup[0])\n",
    "                        answer_modifier = random.choice(potential_answer_modifiers)\n",
    "                        messed_up_answer = answer_modifier.action(answer_to_mess_up)\n",
    "                        tup[1][random.sample(set(range(4))-{correct_answer-1, answer_index_to_mess_up}, 1)[0]] = messed_up_answer\n",
    "                \n",
    "            qdf.loc[index] = [tup[0], *tup[1], time, correct_answer]\n",
    "            index += 1\n",
    "            break\n",
    "            \n",
    "    if func_to_call == generate_instructional_question:\n",
    "        vocab_list.clear()\n",
    "        mess_up_answer_chance = question_entry[3]\n",
    "    \n",
    "qdf"
   ]
  },
  {
   "cell_type": "code",
   "execution_count": 33,
   "metadata": {
    "pycharm": {
     "name": "#%%\n"
    }
   },
   "outputs": [],
   "source": [
    "qdf.to_excel('Kahoot Generated Questions.xlsx', encoding='utf-8-sig')"
   ]
  },
  {
   "cell_type": "code",
   "execution_count": 73,
   "metadata": {
    "pycharm": {
     "name": "#%%\n"
    }
   },
   "outputs": [],
   "source": [
    "df.to_csv('Master Vocab.csv', encoding='utf-8-sig')"
   ]
  },
  {
   "cell_type": "markdown",
   "metadata": {},
   "source": [
    "### Random Pronunciation Words"
   ]
  },
  {
   "cell_type": "code",
   "execution_count": 133,
   "metadata": {},
   "outputs": [],
   "source": [
    "import csv\n",
    "import itertools"
   ]
  },
  {
   "cell_type": "code",
   "execution_count": 134,
   "metadata": {},
   "outputs": [],
   "source": [
    "with open('Master Pronunciation.csv', 'r', encoding='utf-8-sig') as f:\n",
    "    cr = csv.reader(f)\n",
    "    l = list(itertools.chain(*cr))"
   ]
  },
  {
   "cell_type": "code",
   "execution_count": 176,
   "metadata": {},
   "outputs": [
    {
     "data": {
      "text/plain": [
       "'citron'"
      ]
     },
     "execution_count": 176,
     "metadata": {},
     "output_type": "execute_result"
    }
   ],
   "source": [
    "random.choice([w for w in l if True])"
   ]
  },
  {
   "cell_type": "markdown",
   "metadata": {},
   "source": [
    "### Generating Pronunciation"
   ]
  },
  {
   "cell_type": "code",
   "execution_count": 1,
   "metadata": {},
   "outputs": [],
   "source": [
    "import pickle"
   ]
  },
  {
   "cell_type": "code",
   "execution_count": 2,
   "metadata": {},
   "outputs": [
    {
     "data": {
      "text/plain": [
       "['de', 'la', 'le', 'et', 'les']"
      ]
     },
     "execution_count": 2,
     "metadata": {},
     "output_type": "execute_result"
    }
   ],
   "source": [
    "with open('top10kwords.pkl', 'rb') as f:\n",
    "    top10kwordslist = pickle.load(f)\n",
    "top10kwordslist[:5]"
   ]
  },
  {
   "cell_type": "code",
   "execution_count": 3,
   "metadata": {},
   "outputs": [
    {
     "data": {
      "text/plain": [
       "[]"
      ]
     },
     "execution_count": 3,
     "metadata": {},
     "output_type": "execute_result"
    }
   ],
   "source": [
    "[w for w in top10kwordslist if w.endswith('\\n')]"
   ]
  },
  {
   "cell_type": "code",
   "execution_count": 8,
   "metadata": {},
   "outputs": [
    {
     "data": {
      "text/plain": [
       "0     de\n",
       "1     la\n",
       "2     le\n",
       "3     et\n",
       "4    les\n",
       "dtype: object"
      ]
     },
     "execution_count": 8,
     "metadata": {},
     "output_type": "execute_result"
    }
   ],
   "source": [
    "frequent_series = pd.Series(top10kwordslist)\n",
    "frequent_series.head()"
   ]
  },
  {
   "cell_type": "code",
   "execution_count": 11,
   "metadata": {},
   "outputs": [
    {
     "name": "stdout",
     "output_type": "stream",
     "text": [
      "51               bien\n",
      "142             belge\n",
      "155          bénéfice\n",
      "163          beaucoup\n",
      "171              base\n",
      "180               bon\n",
      "220            baisse\n",
      "227            banque\n",
      "256            belges\n",
      "259             bonne\n",
      "355           banques\n",
      "483               bas\n",
      "533            besoin\n",
      "556            bureau\n",
      "640             belle\n",
      "698              bons\n",
      "743         bénéfices\n",
      "744               but\n",
      "793             blanc\n",
      "799              bois\n",
      "815      bénéficiaire\n",
      "831            bonnes\n",
      "848            budget\n",
      "909              bout\n",
      "962             biens\n",
      "1006          besoins\n",
      "1015             beau\n",
      "1016         bancaire\n",
      "1018          bureaux\n",
      "1059      britannique\n",
      "1153             bord\n",
      "1204             brut\n",
      "1313            biais\n",
      "1393    bénéficiaires\n",
      "1522            bilan\n",
      "1571           belles\n",
      "1605       bénéficier\n",
      "1614              bel\n",
      "1625       bruxellois\n",
      "1683         boursier\n",
      "1797         business\n",
      "1833           beauté\n",
      "1842        bénéficie\n",
      "1864        bancaires\n",
      "1911       budgétaire\n",
      "1918             bras\n",
      "1919            beaux\n",
      "1920      bruxelloise\n",
      "1958           billet\n",
      "1988          bonheur\n",
      "2095            barre\n",
      "2117          branche\n",
      "2230          baisser\n",
      "2267           beurre\n",
      "2370             bleu\n",
      "2445            bande\n",
      "2460           broker\n",
      "2514            bases\n",
      "2620            basée\n",
      "2625       bouteilles\n",
      "2632             basé\n",
      "2653          blanche\n",
      "2664           baissé\n",
      "2705             bail\n",
      "2740           bouche\n",
      "2761           bijoux\n",
      "2828        boursiers\n",
      "3034      bénéficient\n",
      "3116         banquier\n",
      "3144         bataille\n",
      "3145     britanniques\n",
      "3234           blancs\n",
      "3280            basse\n",
      "3316        bouteille\n",
      "3329              bus\n",
      "3363            bruit\n",
      "3464             bref\n",
      "3503        bénéficié\n",
      "3530           battre\n",
      "3550          balance\n",
      "3625        brasserie\n",
      "3653         boissons\n",
      "3716            béton\n",
      "3744          billets\n",
      "3808          budgets\n",
      "3809      budgétaires\n",
      "3908             bits\n",
      "3938             bébé\n",
      "4070        banquiers\n",
      "4071          baptisé\n",
      "4163         boutique\n",
      "4204           bateau\n",
      "4226             bloc\n",
      "4458        boutiques\n",
      "4522             bain\n",
      "4579          berline\n",
      "4634         brillant\n",
      "4868             bond\n",
      "4907         brochure\n",
      "4946         blanches\n",
      "4947        boulevard\n",
      "5107            bleus\n",
      "5220              bar\n",
      "5245            bains\n",
      "5279          banking\n",
      "5295           bronze\n",
      "5363      bourgmestre\n",
      "5364         branches\n",
      "5420           bandes\n",
      "5479            boire\n",
      "5480            break\n",
      "5583          brokers\n",
      "5605          bagages\n",
      "5606            blocs\n",
      "5687              bat\n",
      "5706          baisses\n",
      "5719          bouquet\n",
      "5763           barres\n",
      "5804         baptisée\n",
      "5823         batterie\n",
      "5835         bailleur\n",
      "5836            bonus\n",
      "5938          bateaux\n",
      "5939            battu\n",
      "5940        brillante\n",
      "5955          blocage\n",
      "6027          boutons\n",
      "6152        batteries\n",
      "6178            bleue\n",
      "6203           ballon\n",
      "6204           bouton\n",
      "6382            balle\n",
      "6429             baux\n",
      "6463           bassin\n",
      "6464           boulot\n",
      "6534            basés\n",
      "6578           bourse\n",
      "6597          briques\n",
      "6611         banlieue\n",
      "6704          baroque\n",
      "6705           brique\n",
      "6767           bouger\n",
      "6818             boom\n",
      "6841          boisson\n",
      "6979            bijou\n",
      "6980      bénéficiant\n",
      "7005      brutalement\n",
      "7006            brute\n",
      "7097            boeuf\n",
      "7147            bébés\n",
      "7203           brevet\n",
      "7234            bombe\n",
      "7235            bouge\n",
      "7292            banal\n",
      "7354         brasseur\n",
      "7394           bruits\n",
      "7434          branché\n",
      "7435          brutale\n",
      "7468            boule\n",
      "7494            baron\n",
      "7495          brevets\n",
      "7611        bénéfique\n",
      "7644            bords\n",
      "7674        brochures\n",
      "7853     bruxelloises\n",
      "7983          bougent\n",
      "8022        bactéries\n",
      "8023         bouillon\n",
      "8024        brillants\n",
      "8381       biologique\n",
      "8478          barreau\n",
      "8570           basées\n",
      "8571       biographie\n",
      "8659           bilans\n",
      "8660            blues\n",
      "8661          bordure\n",
      "8662             brin\n",
      "8711        banquette\n",
      "8771           banale\n",
      "8772          basilic\n",
      "8826               by\n",
      "8964          bourses\n",
      "8965           briser\n",
      "9015          bougies\n",
      "9063        bricolage\n",
      "9064            bruts\n",
      "9116           bulles\n",
      "9167         bulletin\n",
      "9289           brosse\n",
      "9345      brusquement\n",
      "9396       brillantes\n",
      "9450           battus\n",
      "9451         bordeaux\n",
      "9569           brille\n",
      "9700        blessures\n",
      "9750          berceau\n",
      "9751          bloquer\n",
      "9752         brancher\n",
      "9862             bars\n",
      "9863          bizarre\n",
      "9864           blonde\n",
      "9942          blessés\n",
      "9943           boules\n",
      "9944        bourgeois\n",
      "9945             brun\n",
      "dtype: object\n"
     ]
    }
   ],
   "source": [
    "previous_max_rows = pd.get_option('display.max_rows')\n",
    "pd.set_option('display.max_rows', None)\n",
    "print(frequent_series[frequent_series.str.startswith(\"b\")])\n",
    "pd.set_option('display.max_rows', previous_max_rows)"
   ]
  },
  {
   "cell_type": "code",
   "execution_count": 44,
   "metadata": {},
   "outputs": [
    {
     "data": {
      "text/html": [
       "<div>\n",
       "<style scoped>\n",
       "    .dataframe tbody tr th:only-of-type {\n",
       "        vertical-align: middle;\n",
       "    }\n",
       "\n",
       "    .dataframe tbody tr th {\n",
       "        vertical-align: top;\n",
       "    }\n",
       "\n",
       "    .dataframe thead th {\n",
       "        text-align: right;\n",
       "    }\n",
       "</style>\n",
       "<table border=\"1\" class=\"dataframe\">\n",
       "  <thead>\n",
       "    <tr style=\"text-align: right;\">\n",
       "      <th></th>\n",
       "      <th>Meaning</th>\n",
       "    </tr>\n",
       "    <tr>\n",
       "      <th>Verb</th>\n",
       "      <th></th>\n",
       "    </tr>\n",
       "  </thead>\n",
       "  <tbody>\n",
       "  </tbody>\n",
       "</table>\n",
       "</div>"
      ],
      "text/plain": [
       "Empty DataFrame\n",
       "Columns: [Meaning]\n",
       "Index: []"
      ]
     },
     "execution_count": 44,
     "metadata": {},
     "output_type": "execute_result"
    }
   ],
   "source": [
    "verb_series[verb_series.index.str.startswith('u')]"
   ]
  },
  {
   "cell_type": "code",
   "execution_count": 45,
   "metadata": {},
   "outputs": [
    {
     "data": {
      "text/plain": [
       "10000"
      ]
     },
     "execution_count": 45,
     "metadata": {},
     "output_type": "execute_result"
    }
   ],
   "source": [
    "len(top10kwordslist)"
   ]
  },
  {
   "cell_type": "code",
   "execution_count": 46,
   "metadata": {},
   "outputs": [
    {
     "data": {
      "text/plain": [
       "'ouverture'"
      ]
     },
     "execution_count": 46,
     "metadata": {},
     "output_type": "execute_result"
    }
   ],
   "source": [
    "random.choice(frequent_series)"
   ]
  }
 ],
 "metadata": {
  "kernelspec": {
   "display_name": "Python 3",
   "language": "python",
   "name": "python3"
  },
  "language_info": {
   "codemirror_mode": {
    "name": "ipython",
    "version": 3
   },
   "file_extension": ".py",
   "mimetype": "text/x-python",
   "name": "python",
   "nbconvert_exporter": "python",
   "pygments_lexer": "ipython3",
   "version": "3.8.2"
  }
 },
 "nbformat": 4,
 "nbformat_minor": 1
}